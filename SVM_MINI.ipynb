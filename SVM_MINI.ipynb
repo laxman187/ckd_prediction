{
  "nbformat": 4,
  "nbformat_minor": 0,
  "metadata": {
    "colab": {
      "provenance": [],
      "authorship_tag": "ABX9TyMSAFO97uFgYfxVnnOAnUvY",
      "include_colab_link": true
    },
    "kernelspec": {
      "name": "python3",
      "display_name": "Python 3"
    },
    "language_info": {
      "name": "python"
    }
  },
  "cells": [
    {
      "cell_type": "markdown",
      "metadata": {
        "id": "view-in-github",
        "colab_type": "text"
      },
      "source": [
        "<a href=\"https://colab.research.google.com/github/laxman187/ckd_prediction/blob/main/SVM_MINI.ipynb\" target=\"_parent\"><img src=\"https://colab.research.google.com/assets/colab-badge.svg\" alt=\"Open In Colab\"/></a>"
      ]
    },
    {
      "cell_type": "code",
      "execution_count": null,
      "metadata": {
        "id": "Blz97E9XYQNC"
      },
      "outputs": [],
      "source": [
        "import pandas as pd\n",
        "from sklearn.model_selection import train_test_split\n",
        "from sklearn.svm import SVC\n",
        "from sklearn.metrics import accuracy_score"
      ]
    },
    {
      "cell_type": "code",
      "source": [
        "from google.colab import files"
      ],
      "metadata": {
        "id": "ZvG0D9SjYSPa"
      },
      "execution_count": null,
      "outputs": []
    },
    {
      "cell_type": "code",
      "source": [
        "files.upload()"
      ],
      "metadata": {
        "colab": {
          "base_uri": "https://localhost:8080/",
          "height": 145
        },
        "id": "cHuz0F0UYlnC",
        "outputId": "2f255779-906e-42df-a237-5f1976d0d7ac"
      },
      "execution_count": null,
      "outputs": [
        {
          "output_type": "display_data",
          "data": {
            "text/plain": [
              "<IPython.core.display.HTML object>"
            ],
            "text/html": [
              "\n",
              "     <input type=\"file\" id=\"files-807c4cf0-3727-4522-9490-a4d7eda4e7f5\" name=\"files[]\" multiple disabled\n",
              "        style=\"border:none\" />\n",
              "     <output id=\"result-807c4cf0-3727-4522-9490-a4d7eda4e7f5\">\n",
              "      Upload widget is only available when the cell has been executed in the\n",
              "      current browser session. Please rerun this cell to enable.\n",
              "      </output>\n",
              "      <script>// Copyright 2017 Google LLC\n",
              "//\n",
              "// Licensed under the Apache License, Version 2.0 (the \"License\");\n",
              "// you may not use this file except in compliance with the License.\n",
              "// You may obtain a copy of the License at\n",
              "//\n",
              "//      http://www.apache.org/licenses/LICENSE-2.0\n",
              "//\n",
              "// Unless required by applicable law or agreed to in writing, software\n",
              "// distributed under the License is distributed on an \"AS IS\" BASIS,\n",
              "// WITHOUT WARRANTIES OR CONDITIONS OF ANY KIND, either express or implied.\n",
              "// See the License for the specific language governing permissions and\n",
              "// limitations under the License.\n",
              "\n",
              "/**\n",
              " * @fileoverview Helpers for google.colab Python module.\n",
              " */\n",
              "(function(scope) {\n",
              "function span(text, styleAttributes = {}) {\n",
              "  const element = document.createElement('span');\n",
              "  element.textContent = text;\n",
              "  for (const key of Object.keys(styleAttributes)) {\n",
              "    element.style[key] = styleAttributes[key];\n",
              "  }\n",
              "  return element;\n",
              "}\n",
              "\n",
              "// Max number of bytes which will be uploaded at a time.\n",
              "const MAX_PAYLOAD_SIZE = 100 * 1024;\n",
              "\n",
              "function _uploadFiles(inputId, outputId) {\n",
              "  const steps = uploadFilesStep(inputId, outputId);\n",
              "  const outputElement = document.getElementById(outputId);\n",
              "  // Cache steps on the outputElement to make it available for the next call\n",
              "  // to uploadFilesContinue from Python.\n",
              "  outputElement.steps = steps;\n",
              "\n",
              "  return _uploadFilesContinue(outputId);\n",
              "}\n",
              "\n",
              "// This is roughly an async generator (not supported in the browser yet),\n",
              "// where there are multiple asynchronous steps and the Python side is going\n",
              "// to poll for completion of each step.\n",
              "// This uses a Promise to block the python side on completion of each step,\n",
              "// then passes the result of the previous step as the input to the next step.\n",
              "function _uploadFilesContinue(outputId) {\n",
              "  const outputElement = document.getElementById(outputId);\n",
              "  const steps = outputElement.steps;\n",
              "\n",
              "  const next = steps.next(outputElement.lastPromiseValue);\n",
              "  return Promise.resolve(next.value.promise).then((value) => {\n",
              "    // Cache the last promise value to make it available to the next\n",
              "    // step of the generator.\n",
              "    outputElement.lastPromiseValue = value;\n",
              "    return next.value.response;\n",
              "  });\n",
              "}\n",
              "\n",
              "/**\n",
              " * Generator function which is called between each async step of the upload\n",
              " * process.\n",
              " * @param {string} inputId Element ID of the input file picker element.\n",
              " * @param {string} outputId Element ID of the output display.\n",
              " * @return {!Iterable<!Object>} Iterable of next steps.\n",
              " */\n",
              "function* uploadFilesStep(inputId, outputId) {\n",
              "  const inputElement = document.getElementById(inputId);\n",
              "  inputElement.disabled = false;\n",
              "\n",
              "  const outputElement = document.getElementById(outputId);\n",
              "  outputElement.innerHTML = '';\n",
              "\n",
              "  const pickedPromise = new Promise((resolve) => {\n",
              "    inputElement.addEventListener('change', (e) => {\n",
              "      resolve(e.target.files);\n",
              "    });\n",
              "  });\n",
              "\n",
              "  const cancel = document.createElement('button');\n",
              "  inputElement.parentElement.appendChild(cancel);\n",
              "  cancel.textContent = 'Cancel upload';\n",
              "  const cancelPromise = new Promise((resolve) => {\n",
              "    cancel.onclick = () => {\n",
              "      resolve(null);\n",
              "    };\n",
              "  });\n",
              "\n",
              "  // Wait for the user to pick the files.\n",
              "  const files = yield {\n",
              "    promise: Promise.race([pickedPromise, cancelPromise]),\n",
              "    response: {\n",
              "      action: 'starting',\n",
              "    }\n",
              "  };\n",
              "\n",
              "  cancel.remove();\n",
              "\n",
              "  // Disable the input element since further picks are not allowed.\n",
              "  inputElement.disabled = true;\n",
              "\n",
              "  if (!files) {\n",
              "    return {\n",
              "      response: {\n",
              "        action: 'complete',\n",
              "      }\n",
              "    };\n",
              "  }\n",
              "\n",
              "  for (const file of files) {\n",
              "    const li = document.createElement('li');\n",
              "    li.append(span(file.name, {fontWeight: 'bold'}));\n",
              "    li.append(span(\n",
              "        `(${file.type || 'n/a'}) - ${file.size} bytes, ` +\n",
              "        `last modified: ${\n",
              "            file.lastModifiedDate ? file.lastModifiedDate.toLocaleDateString() :\n",
              "                                    'n/a'} - `));\n",
              "    const percent = span('0% done');\n",
              "    li.appendChild(percent);\n",
              "\n",
              "    outputElement.appendChild(li);\n",
              "\n",
              "    const fileDataPromise = new Promise((resolve) => {\n",
              "      const reader = new FileReader();\n",
              "      reader.onload = (e) => {\n",
              "        resolve(e.target.result);\n",
              "      };\n",
              "      reader.readAsArrayBuffer(file);\n",
              "    });\n",
              "    // Wait for the data to be ready.\n",
              "    let fileData = yield {\n",
              "      promise: fileDataPromise,\n",
              "      response: {\n",
              "        action: 'continue',\n",
              "      }\n",
              "    };\n",
              "\n",
              "    // Use a chunked sending to avoid message size limits. See b/62115660.\n",
              "    let position = 0;\n",
              "    do {\n",
              "      const length = Math.min(fileData.byteLength - position, MAX_PAYLOAD_SIZE);\n",
              "      const chunk = new Uint8Array(fileData, position, length);\n",
              "      position += length;\n",
              "\n",
              "      const base64 = btoa(String.fromCharCode.apply(null, chunk));\n",
              "      yield {\n",
              "        response: {\n",
              "          action: 'append',\n",
              "          file: file.name,\n",
              "          data: base64,\n",
              "        },\n",
              "      };\n",
              "\n",
              "      let percentDone = fileData.byteLength === 0 ?\n",
              "          100 :\n",
              "          Math.round((position / fileData.byteLength) * 100);\n",
              "      percent.textContent = `${percentDone}% done`;\n",
              "\n",
              "    } while (position < fileData.byteLength);\n",
              "  }\n",
              "\n",
              "  // All done.\n",
              "  yield {\n",
              "    response: {\n",
              "      action: 'complete',\n",
              "    }\n",
              "  };\n",
              "}\n",
              "\n",
              "scope.google = scope.google || {};\n",
              "scope.google.colab = scope.google.colab || {};\n",
              "scope.google.colab._files = {\n",
              "  _uploadFiles,\n",
              "  _uploadFilesContinue,\n",
              "};\n",
              "})(self);\n",
              "</script> "
            ]
          },
          "metadata": {}
        },
        {
          "output_type": "stream",
          "name": "stdout",
          "text": [
            "Saving kidney_disease.csv to kidney_disease (1).csv\n"
          ]
        },
        {
          "output_type": "execute_result",
          "data": {
            "text/plain": [
              "{'kidney_disease.csv': b'id,age,bp,sg,al,su,rbc,pc,pcc,ba,bgr,bu,sc,sod,pot,hemo,pcv,wc,rc,htn,dm,cad,appet,pe,ane,classification\\n0,48.0,80.0,1.02,1.0,0.0,,normal,notpresent,notpresent,121.0,36.0,1.2,,,15.4,44,7800,5.2,yes,yes,no,good,no,no,ckd\\n1,7.0,50.0,1.02,4.0,0.0,,normal,notpresent,notpresent,,18.0,0.8,,,11.3,38,6000,,no,no,no,good,no,no,ckd\\n2,62.0,80.0,1.01,2.0,3.0,normal,normal,notpresent,notpresent,423.0,53.0,1.8,,,9.6,31,7500,,no,yes,no,poor,no,yes,ckd\\n3,48.0,70.0,1.005,4.0,0.0,normal,abnormal,present,notpresent,117.0,56.0,3.8,111.0,2.5,11.2,32,6700,3.9,yes,no,no,poor,yes,yes,ckd\\n4,51.0,80.0,1.01,2.0,0.0,normal,normal,notpresent,notpresent,106.0,26.0,1.4,,,11.6,35,7300,4.6,no,no,no,good,no,no,ckd\\n5,60.0,90.0,1.015,3.0,0.0,,,notpresent,notpresent,74.0,25.0,1.1,142.0,3.2,12.2,39,7800,4.4,yes,yes,no,good,yes,no,ckd\\n6,68.0,70.0,1.01,0.0,0.0,,normal,notpresent,notpresent,100.0,54.0,24.0,104.0,4.0,12.4,36,,,no,no,no,good,no,no,ckd\\n7,24.0,,1.015,2.0,4.0,normal,abnormal,notpresent,notpresent,410.0,31.0,1.1,,,12.4,44,6900,5,no,yes,no,good,yes,no,ckd\\n8,52.0,100.0,1.015,3.0,0.0,normal,abnormal,present,notpresent,138.0,60.0,1.9,,,10.8,33,9600,4.0,yes,yes,no,good,no,yes,ckd\\n9,53.0,90.0,1.02,2.0,0.0,abnormal,abnormal,present,notpresent,70.0,107.0,7.2,114.0,3.7,9.5,29,12100,3.7,yes,yes,no,poor,no,yes,ckd\\n10,50.0,60.0,1.01,2.0,4.0,,abnormal,present,notpresent,490.0,55.0,4.0,,,9.4,28,,,yes,yes,no,good,no,yes,ckd\\n11,63.0,70.0,1.01,3.0,0.0,abnormal,abnormal,present,notpresent,380.0,60.0,2.7,131.0,4.2,10.8,32,4500,3.8,yes,yes,no,poor,yes,no,ckd\\n12,68.0,70.0,1.015,3.0,1.0,,normal,present,notpresent,208.0,72.0,2.1,138.0,5.8,9.7,28,12200,3.4,yes,yes,yes,poor,yes,no,ckd\\n13,68.0,70.0,,,,,,notpresent,notpresent,98.0,86.0,4.6,135.0,3.4,9.8,,,,yes,yes,yes,poor,yes,no,ckd\\n14,68.0,80.0,1.01,3.0,2.0,normal,abnormal,present,present,157.0,90.0,4.1,130.0,6.4,5.6,16,11000,2.6,yes,yes,yes,poor,yes,no,ckd\\n15,40.0,80.0,1.015,3.0,0.0,,normal,notpresent,notpresent,76.0,162.0,9.6,141.0,4.9,7.6,24,3800,2.8,yes,no,no,good,no,yes,ckd\\n16,47.0,70.0,1.015,2.0,0.0,,normal,notpresent,notpresent,99.0,46.0,2.2,138.0,4.1,12.6,,,,no,no,no,good,no,no,ckd\\n17,47.0,80.0,,,,,,notpresent,notpresent,114.0,87.0,5.2,139.0,3.7,12.1,,,,yes,no,no,poor,no,no,ckd\\n18,60.0,100.0,1.025,0.0,3.0,,normal,notpresent,notpresent,263.0,27.0,1.3,135.0,4.3,12.7,37,11400,4.3,yes,yes,yes,good,no,no,ckd\\n19,62.0,60.0,1.015,1.0,0.0,,abnormal,present,notpresent,100.0,31.0,1.6,,,10.3,30,5300,3.7,yes,no,yes,good,no,no,ckd\\n20,61.0,80.0,1.015,2.0,0.0,abnormal,abnormal,notpresent,notpresent,173.0,148.0,3.9,135.0,5.2,7.7,24,9200,3.2,yes,yes,yes,poor,yes,yes,ckd\\n21,60.0,90.0,,,,,,notpresent,notpresent,,180.0,76.0,4.5,,10.9,32,6200,3.6,yes,yes,yes,good,no,no,ckd\\n22,48.0,80.0,1.025,4.0,0.0,normal,abnormal,notpresent,notpresent,95.0,163.0,7.7,136.0,3.8,9.8,32,6900,3.4,yes,no,no,good,no,yes,ckd\\n23,21.0,70.0,1.01,0.0,0.0,,normal,notpresent,notpresent,,,,,,,,,,no,no,no,poor,no,yes,ckd\\n24,42.0,100.0,1.015,4.0,0.0,normal,abnormal,notpresent,present,,50.0,1.4,129.0,4.0,11.1,39,8300,4.6,yes,no,no,poor,no,no,ckd\\n25,61.0,60.0,1.025,0.0,0.0,,normal,notpresent,notpresent,108.0,75.0,1.9,141.0,5.2,9.9,29,8400,3.7,yes,yes,no,good,no,yes,ckd\\n26,75.0,80.0,1.015,0.0,0.0,,normal,notpresent,notpresent,156.0,45.0,2.4,140.0,3.4,11.6,35,10300,4,yes,yes,no,poor,no,no,ckd\\n27,69.0,70.0,1.01,3.0,4.0,normal,abnormal,notpresent,notpresent,264.0,87.0,2.7,130.0,4.0,12.5,37,9600,4.1,yes,yes,yes,good,yes,no,ckd\\n28,75.0,70.0,,1.0,3.0,,,notpresent,notpresent,123.0,31.0,1.4,,,,,,,no,yes,no,good,no,no,ckd\\n29,68.0,70.0,1.005,1.0,0.0,abnormal,abnormal,present,notpresent,,28.0,1.4,,,12.9,38,,,no,no,yes,good,no,no,ckd\\n30,,70.0,,,,,,notpresent,notpresent,93.0,155.0,7.3,132.0,4.9,,,,,yes, yes,no,good,no,no,ckd\\n31,73.0,90.0,1.015,3.0,0.0,,abnormal,present,notpresent,107.0,33.0,1.5,141.0,4.6,10.1,30,7800,4,no,no,no,poor,no,no,ckd\\n32,61.0,90.0,1.01,1.0,1.0,,normal,notpresent,notpresent,159.0,39.0,1.5,133.0,4.9,11.3,34,9600,4.0,yes,yes,no,poor,no,no,ckd\\n33,60.0,100.0,1.02,2.0,0.0,abnormal,abnormal,notpresent,notpresent,140.0,55.0,2.5,,,10.1,29,,,yes,no,no,poor,no,no,ckd\\n34,70.0,70.0,1.01,1.0,0.0,normal,,present,present,171.0,153.0,5.2,,,,,,,no,yes,no,poor,no,no,ckd\\n35,65.0,90.0,1.02,2.0,1.0,abnormal,normal,notpresent,notpresent,270.0,39.0,2.0,,,12.0,36,9800,4.9,yes,yes,no,poor,no,yes,ckd\\n36,76.0,70.0,1.015,1.0,0.0,normal,normal,notpresent,notpresent,92.0,29.0,1.8,133.0,3.9,10.3,32,,,yes,no,no,good,no,no,ckd\\n37,72.0,80.0,,,,,,notpresent,notpresent,137.0,65.0,3.4,141.0,4.7,9.7,28,6900,2.5,yes,yes,no,poor,no,yes,ckd\\t\\n38,69.0,80.0,1.02,3.0,0.0,abnormal,normal,notpresent,notpresent,,103.0,4.1,132.0,5.9,12.5,,,,yes,no,no,good,no,no,ckd\\n39,82.0,80.0,1.01,2.0,2.0,normal,,notpresent,notpresent,140.0,70.0,3.4,136.0,4.2,13.0,40,9800,4.2,yes,yes,no,good,no,no,ckd\\n40,46.0,90.0,1.01,2.0,0.0,normal,abnormal,notpresent,notpresent,99.0,80.0,2.1,,,11.1,32,9100,4.1,yes,no,\\tno,good,no,no,ckd\\n41,45.0,70.0,1.01,0.0,0.0,,normal,notpresent,notpresent,,20.0,0.7,,,,,,,no,no,no,good,yes,no,ckd\\n42,47.0,100.0,1.01,0.0,0.0,,normal,notpresent,notpresent,204.0,29.0,1.0,139.0,4.2,9.7,33,9200,4.5,yes,no,no,good,no,yes,ckd\\n43,35.0,80.0,1.01,1.0,0.0,abnormal,,notpresent,notpresent,79.0,202.0,10.8,134.0,3.4,7.9,24,7900,3.1,no,yes,no,good,no,no,ckd\\n44,54.0,80.0,1.01,3.0,0.0,abnormal,abnormal,notpresent,notpresent,207.0,77.0,6.3,134.0,4.8,9.7,28,,,yes,yes,no,poor,yes,no,ckd\\n45,54.0,80.0,1.02,3.0,0.0,,abnormal,notpresent,notpresent,208.0,89.0,5.9,130.0,4.9,9.3,,,,yes,yes,no,poor,yes,no,ckd\\n46,48.0,70.0,1.015,0.0,0.0,,normal,notpresent,notpresent,124.0,24.0,1.2,142.0,4.2,12.4,37,6400,4.7,no,yes,no,good,no,no,ckd\\n47,11.0,80.0,1.01,3.0,0.0,,normal,notpresent,notpresent,,17.0,0.8,,,15.0,45,8600,,no,no,no,good,no,no,ckd\\n48,73.0,70.0,1.005,0.0,0.0,normal,normal,notpresent,notpresent,70.0,32.0,0.9,125.0,4.0,10.0,29,18900,3.5,yes,yes,no,good,yes,no,ckd\\n49,60.0,70.0,1.01,2.0,0.0,normal,abnormal,present,notpresent,144.0,72.0,3.0,,,9.7,29,21600,3.5,yes,yes,no,poor,no,yes,ckd\\n50,53.0,60.0,,,,,,notpresent,notpresent,91.0,114.0,3.25,142.0,4.3,8.6,28,11000,3.8,yes,yes,no,poor,yes,yes,ckd\\n51,54.0,100.0,1.015,3.0,0.0,,normal,present,notpresent,162.0,66.0,1.6,136.0,4.4,10.3,33,,,yes,yes,no,poor,yes,no,ckd\\n52,53.0,90.0,1.015,0.0,0.0,,normal,notpresent,notpresent,,38.0,2.2,,,10.9,34,4300,3.7,no,no,no,poor,no,yes,ckd\\n53,62.0,80.0,1.015,0.0,5.0,,,notpresent,notpresent,246.0,24.0,1.0,,,13.6,40,8500,4.7,yes,yes,no,good,no,no,ckd\\n54,63.0,80.0,1.01,2.0,2.0,normal,,notpresent,notpresent,,,3.4,136.0,4.2,13.0,40,9800,4.2,yes,no,yes,good,no,no,ckd\\n55,35.0,80.0,1.005,3.0,0.0,abnormal,normal,notpresent,notpresent,,,,,,9.5,28,,,no,no,no,good,yes,no,ckd\\n56,76.0,70.0,1.015,3.0,4.0,normal,abnormal,present,notpresent,,164.0,9.7,131.0,4.4,10.2,30,11300,3.4,yes,yes,yes,poor,yes,no,ckd\\n57,76.0,90.0,,,,,normal,notpresent,notpresent,93.0,155.0,7.3,132.0,4.9,,,,,yes,yes,yes,poor,no,no,ckd\\n58,73.0,80.0,1.02,2.0,0.0,abnormal,abnormal,notpresent,notpresent,253.0,142.0,4.6,138.0,5.8,10.5,33,7200,4.3,yes,yes,yes,good,no,no,ckd\\n59,59.0,100.0,,,,,,notpresent,notpresent,,96.0,6.4,,,6.6,,,,yes,yes,no,good,no,yes,ckd\\n60,67.0,90.0,1.02,1.0,0.0,,abnormal,present,notpresent,141.0,66.0,3.2,138.0,6.6,,,,,yes,no,no,good,no,no,ckd\\n61,67.0,80.0,1.01,1.0,3.0,normal,abnormal,notpresent,notpresent,182.0,391.0,32.0,163.0,39.0,,,,,no,no,no,good,yes,no,ckd\\n62,15.0,60.0,1.02,3.0,0.0,,normal,notpresent,notpresent,86.0,15.0,0.6,138.0,4.0,11.0,33,7700,3.8,yes,yes,no,good,no,no,ckd\\n63,46.0,70.0,1.015,1.0,0.0,abnormal,normal,notpresent,notpresent,150.0,111.0,6.1,131.0,3.7,7.5,27,,,no,no,no,good,no,yes,ckd\\n64,55.0,80.0,1.01,0.0,0.0,,normal,notpresent,notpresent,146.0,,,,,9.8,,,,no,no,\\tno,good,no,no,ckd\\n65,44.0,90.0,1.01,1.0,0.0,,normal,notpresent,notpresent,,20.0,1.1,,,15.0,48,,,no,\\tno,no,good,no,no,ckd\\n66,67.0,70.0,1.02,2.0,0.0,abnormal,normal,notpresent,notpresent,150.0,55.0,1.6,131.0,4.8,,\\t?,,,yes,yes,no,good,yes,no,ckd\\n67,45.0,80.0,1.02,3.0,0.0,normal,abnormal,notpresent,notpresent,425.0,,,,,,,,,no,no,no,poor,no,no,ckd\\n68,65.0,70.0,1.01,2.0,0.0,,normal,present,notpresent,112.0,73.0,3.3,,,10.9,37,,,no,no,no,good,no,no,ckd\\n69,26.0,70.0,1.015,0.0,4.0,,normal,notpresent,notpresent,250.0,20.0,1.1,,,15.6,52,6900,6.0,no,yes,no,good,no,no,ckd\\n70,61.0,80.0,1.015,0.0,4.0,,normal,notpresent,notpresent,360.0,19.0,0.7,137.0,4.4,15.2,44,8300,5.2,yes,yes,no,good,no,no,ckd\\n71,46.0,60.0,1.01,1.0,0.0,normal,normal,notpresent,notpresent,163.0,92.0,3.3,141.0,4.0,9.8,28,14600,3.2,yes,yes,no,good,no,no,ckd\\n72,64.0,90.0,1.01,3.0,3.0,,abnormal,present,notpresent,,35.0,1.3,,,10.3,,,,yes,yes,no,good,yes,no,ckd\\n73,,100.0,1.015,2.0,0.0,abnormal,abnormal,notpresent,notpresent,129.0,107.0,6.7,132.0,4.4,4.8,14,6300,,yes,no,no,good,yes,yes,ckd\\n74,56.0,90.0,1.015,2.0,0.0,abnormal,abnormal,notpresent,notpresent,129.0,107.0,6.7,131.0,4.8,9.1,29,6400,3.4,yes,no,no,good,no,no,ckd\\n75,5.0,,1.015,1.0,0.0,,normal,notpresent,notpresent,,16.0,0.7,138.0,3.2,8.1,,,,no,no,no,good,no,yes,ckd\\n76,48.0,80.0,1.005,4.0,0.0,abnormal,abnormal,notpresent,present,133.0,139.0,8.5,132.0,5.5,10.3,36,\\t6200,4,no,yes,no,good,yes,no,ckd\\n77,67.0,70.0,1.01,1.0,0.0,,normal,notpresent,notpresent,102.0,48.0,3.2,137.0,5.0,11.9,34,7100,3.7,yes,yes,no,good,yes,no,ckd\\n78,70.0,80.0,,,,,,notpresent,notpresent,158.0,85.0,3.2,141.0,3.5,10.1,30,,,yes,no,no,good,yes,no,ckd\\n79,56.0,80.0,1.01,1.0,0.0,,normal,notpresent,notpresent,165.0,55.0,1.8,,,13.5,40,11800,5.0,yes,yes,no,poor,yes,no,ckd\\n80,74.0,80.0,1.01,0.0,0.0,,normal,notpresent,notpresent,132.0,98.0,2.8,133.0,5.0,10.8,31,9400,3.8,yes,yes,no,good,no,no,ckd\\n81,45.0,90.0,,,,,,notpresent,notpresent,360.0,45.0,2.4,128.0,4.4,8.3,29,5500,3.7,yes,yes,no,good,no,no,ckd\\n82,38.0,70.0,,,,,,notpresent,notpresent,104.0,77.0,1.9,140.0,3.9,,,,,yes,no,no,poor,yes,no,ckd\\n83,48.0,70.0,1.015,1.0,0.0,normal,normal,notpresent,notpresent,127.0,19.0,1.0,134.0,3.6,,,,,yes,yes,no,good,no,no,ckd\\n84,59.0,70.0,1.01,3.0,0.0,normal,abnormal,notpresent,notpresent,76.0,186.0,15.0,135.0,7.6,7.1,22,3800,2.1,yes,no,no,poor,yes,yes,ckd\\n85,70.0,70.0,1.015,2.0,,,,notpresent,notpresent,,46.0,1.5,,,9.9,,,,no,yes,no,poor,yes,no,ckd\\n86,56.0,80.0,,,,,,notpresent,notpresent,415.0,37.0,1.9,,,,,,,no,yes,no,good,no,no,ckd\\n87,70.0,100.0,1.005,1.0,0.0,normal,abnormal,present,notpresent,169.0,47.0,2.9,,,11.1,32,5800,5,yes,yes,no,poor,no,no,ckd\\n88,58.0,110.0,1.01,4.0,0.0,,normal,notpresent,notpresent,251.0,52.0,2.2,,,,,13200,4.7,yes,\\tyes,no,good,no,no,ckd\\n89,50.0,70.0,1.02,0.0,0.0,,normal,notpresent,notpresent,109.0,32.0,1.4,139.0,4.7,,,,,no,no,no,poor,no,no,ckd\\n90,63.0,100.0,1.01,2.0,2.0,normal,normal,notpresent,present,280.0,35.0,3.2,143.0,3.5,13.0,40,9800,4.2,yes,no,yes,good,no,no,ckd\\n91,56.0,70.0,1.015,4.0,1.0,abnormal,normal,notpresent,notpresent,210.0,26.0,1.7,136.0,3.8,16.1,52,12500,5.6,no,no,no,good,no,no,ckd\\n92,71.0,70.0,1.01,3.0,0.0,normal,abnormal,present,present,219.0,82.0,3.6,133.0,4.4,10.4,33,5600,3.6,yes,yes,yes,good,no,no,ckd\\n93,73.0,100.0,1.01,3.0,2.0,abnormal,abnormal,present,notpresent,295.0,90.0,5.6,140.0,2.9,9.2,30,7000,3.2,yes,yes,yes,poor,no,no,ckd\\n94,65.0,70.0,1.01,0.0,0.0,,normal,notpresent,notpresent,93.0,66.0,1.6,137.0,4.5,11.6,36,11900,3.9,no,yes,no,good,no,no,ckd\\n95,62.0,90.0,1.015,1.0,0.0,,normal,notpresent,notpresent,94.0,25.0,1.1,131.0,3.7,,,,,yes,no,no,good,yes,yes,ckd\\n96,60.0,80.0,1.01,1.0,1.0,,normal,notpresent,notpresent,172.0,32.0,2.7,,,11.2,36,,,no,yes,yes,poor,no,no,ckd\\n97,65.0,60.0,1.015,1.0,0.0,,normal,notpresent,notpresent,91.0,51.0,2.2,132.0,3.8,10.0,32,9100,4.0,yes,yes,no,poor,yes,no,ckd\\n98,50.0,140.0,,,,,,notpresent,notpresent,101.0,106.0,6.5,135.0,4.3,6.2,18,5800,2.3,yes,yes,no,poor,no,yes,ckd\\n99,56.0,180.0,,0.0,4.0,,abnormal,notpresent,notpresent,298.0,24.0,1.2,139.0,3.9,11.2,32,10400,4.2,yes,yes,no,poor,yes,no,ckd\\n100,34.0,70.0,1.015,4.0,0.0,abnormal,abnormal,notpresent,notpresent,153.0,22.0,0.9,133.0,3.8,,,,,no,no,no,good,yes,no,ckd\\n101,71.0,90.0,1.015,2.0,0.0,,abnormal,present,present,88.0,80.0,4.4,139.0,5.7,11.3,33,10700,3.9,no,no,no,good,no,no,ckd\\n102,17.0,60.0,1.01,0.0,0.0,,normal,notpresent,notpresent,92.0,32.0,2.1,141.0,4.2,13.9,52,7000,,no,no,no,good,no,no,ckd\\n103,76.0,70.0,1.015,2.0,0.0,normal,abnormal,present,notpresent,226.0,217.0,10.2,,,10.2,36,12700,4.2,yes,no,no,poor,yes,yes,ckd\\n104,55.0,90.0,,,,,,notpresent,notpresent,143.0,88.0,2.0,,,,,,,yes,yes,no,poor,yes,no,ckd\\n105,65.0,80.0,1.015,0.0,0.0,,normal,notpresent,notpresent,115.0,32.0,11.5,139.0,4.0,14.1,42,6800,5.2,no,no,no,good,no,no,ckd\\n106,50.0,90.0,,,,,,notpresent,notpresent,89.0,118.0,6.1,127.0,4.4,6.0,17,6500,,yes,yes,no,good,yes,yes,ckd\\n107,55.0,100.0,1.015,1.0,4.0,normal,,notpresent,notpresent,297.0,53.0,2.8,139.0,4.5,11.2,34,13600,4.4,yes,yes,no,good,no,no,ckd\\n108,45.0,80.0,1.015,0.0,0.0,,abnormal,notpresent,notpresent,107.0,15.0,1.0,141.0,4.2,11.8,37,10200,4.2,no,no,no,good,no,no,ckd\\n109,54.0,70.0,,,,,,notpresent,notpresent,233.0,50.1,1.9,,,11.7,,,,no,yes,no,good,no,no,ckd\\n110,63.0,90.0,1.015,0.0,0.0,,normal,notpresent,notpresent,123.0,19.0,2.0,142.0,3.8,11.7,34,11400,4.7,no,no,no,good,no,no,ckd\\n111,65.0,80.0,1.01,3.0,3.0,,normal,notpresent,notpresent,294.0,71.0,4.4,128.0,5.4,10.0,32,9000,3.9,yes,yes,yes,good,no,no,ckd\\n112,,60.0,1.015,3.0,0.0,abnormal,abnormal,notpresent,notpresent,,34.0,1.2,,,10.8,33,,,no,no,no,good,no,no,ckd\\n113,61.0,90.0,1.015,0.0,2.0,,normal,notpresent,notpresent,,,,,,,,9800,,no,yes,no,poor,no,yes,ckd\\n114,12.0,60.0,1.015,3.0,0.0,abnormal,abnormal,present,notpresent,,51.0,1.8,,,12.1,,10300,,no,no,no,good,no,no,ckd\\n115,47.0,80.0,1.01,0.0,0.0,,abnormal,notpresent,notpresent,,28.0,0.9,,,12.4,44,5600,4.3,no,no,no,good,no,yes,ckd\\n116,,70.0,1.015,4.0,0.0,abnormal,normal,notpresent,notpresent,104.0,16.0,0.5,,,,,,,no,no,no,good,yes,no,ckd\\n117,,70.0,1.02,0.0,0.0,,,notpresent,notpresent,219.0,36.0,1.3,139.0,3.7,12.5,37,9800,4.4,no,no,no,good,no,no,ckd\\n118,55.0,70.0,1.01,3.0,0.0,,normal,notpresent,notpresent,99.0,25.0,1.2,,,11.4,,,,no,no,no,poor,yes,no,ckd\\n119,60.0,70.0,1.01,0.0,0.0,,normal,notpresent,notpresent,140.0,27.0,1.2,,,,,,,no,no,no,good,no,no,ckd\\n120,72.0,90.0,1.025,1.0,3.0,,normal,notpresent,notpresent,323.0,40.0,2.2,137.0,5.3,12.6,,,,no,yes,yes,poor,no,no,ckd\\n121,54.0,60.0,,3.0,,,,notpresent,notpresent,125.0,21.0,1.3,137.0,3.4,15.0,46,,,yes,yes,no,good,yes,no,ckd\\n122,34.0,70.0,,,,,,notpresent,notpresent,,219.0,12.2,130.0,3.8,6.0,,,,yes,no,no,good,no,yes,ckd\\n123,43.0,80.0,1.015,2.0,3.0,,abnormal,present,present,,30.0,1.1,,,14.0,42,14900,,no,no,no,good,no,no,ckd\\n124,65.0,100.0,1.015,0.0,0.0,,normal,notpresent,notpresent,90.0,98.0,2.5,,,9.1,28,5500,3.6,yes,no,no,good,no,no,ckd\\n125,72.0,90.0,,,,,,notpresent,notpresent,308.0,36.0,2.5,131.0,4.3,,,,,yes,yes,no,poor,no,no,ckd\\n126,70.0,90.0,1.015,0.0,0.0,,normal,notpresent,notpresent,144.0,125.0,4.0,136.0,4.6,12.0,37,8200,4.5,yes,yes,no,poor,yes,no,ckd\\n127,71.0,60.0,1.015,4.0,0.0,normal,normal,notpresent,notpresent,118.0,125.0,5.3,136.0,4.9,11.4,35,15200,4.3,yes,yes,no,poor,yes,no,ckd\\n128,52.0,90.0,1.015,4.0,3.0,normal,abnormal,notpresent,notpresent,224.0,166.0,5.6,133.0,47.0,8.1,23,5000,2.9,yes,yes,no,good,no,yes,ckd\\n129,75.0,70.0,1.025,1.0,0.0,,normal,notpresent,notpresent,158.0,49.0,1.4,135.0,4.7,11.1,,,,yes,no,no,poor,yes,no,ckd\\n130,50.0,90.0,1.01,2.0,0.0,normal,abnormal,present,present,128.0,208.0,9.2,134.0,4.8,8.2,22,16300,2.7,no,no,no,poor,yes,yes,ckd\\n131,5.0,50.0,1.01,0.0,0.0,,normal,notpresent,notpresent,,25.0,0.6,,,11.8,36,12400,,no,no,no,good,no,no,ckd\\n132,50.0,,,,,normal,,notpresent,notpresent,219.0,176.0,13.8,136.0,4.5,8.6,24,13200,2.7,yes,no,no,good,yes,yes,ckd\\n133,70.0,100.0,1.015,4.0,0.0,normal,normal,notpresent,notpresent,118.0,125.0,5.3,136.0,4.9,12.0,37,\\t8400,8.0,yes,no,no,good,no,no,ckd\\n134,47.0,100.0,1.01,,,normal,,notpresent,notpresent,122.0,,16.9,138.0,5.2,10.8,33,10200,3.8,no,yes,no,good,no,no,ckd\\n135,48.0,80.0,1.015,0.0,2.0,,normal,notpresent,notpresent,214.0,24.0,1.3,140.0,4.0,13.2,39,,,no,yes,no,poor,no,no,ckd\\n136,46.0,90.0,1.02,,,,normal,notpresent,notpresent,213.0,68.0,2.8,146.0,6.3,9.3,,,,yes,yes,no,good,no,no,ckd\\n137,45.0,60.0,1.01,2.0,0.0,normal,abnormal,present,notpresent,268.0,86.0,4.0,134.0,5.1,10.0,29,9200,,yes,yes,no,good,no,no,ckd\\n138,73.0,,1.01,1.0,0.0,,,notpresent,notpresent,95.0,51.0,1.6,142.0,3.5,,,,,no,\\tno,no,good,no,no,ckd\\n139,41.0,70.0,1.015,2.0,0.0,,abnormal,notpresent,present,,68.0,2.8,132.0,4.1,11.1,33,,,yes,no,no,good,yes,yes,ckd\\n140,69.0,70.0,1.01,0.0,4.0,,normal,notpresent,notpresent,256.0,40.0,1.2,142.0,5.6,,,,,no,no,no,good,no,no,ckd\\n141,67.0,70.0,1.01,1.0,0.0,normal,normal,notpresent,notpresent,,106.0,6.0,137.0,4.9,6.1,19,6500,,yes,no,no,good,no,yes,ckd\\n142,72.0,90.0,,,,,,notpresent,notpresent,84.0,145.0,7.1,135.0,5.3,,,,,no,yes,no,good,no,no,ckd\\n143,41.0,80.0,1.015,1.0,4.0,abnormal,normal,notpresent,notpresent,210.0,165.0,18.0,135.0,4.7,,,,,no,yes,no,good,no,no,ckd\\n144,60.0,90.0,1.01,2.0,0.0,abnormal,normal,notpresent,notpresent,105.0,53.0,2.3,136.0,5.2,11.1,33,10500,4.1,no,no,no,good,no,no,ckd\\n145,57.0,90.0,1.015,5.0,0.0,abnormal,abnormal,notpresent,present,,322.0,13.0,126.0,4.8,8.0,24,4200,3.3,yes,yes,yes,poor,yes,yes,ckd\\n146,53.0,100.0,1.01,1.0,3.0,abnormal,normal,notpresent,notpresent,213.0,23.0,1.0,139.0,4.0,,,,,no,yes,no,good,no,no,ckd\\n147,60.0,60.0,1.01,3.0,1.0,normal,abnormal,present,notpresent,288.0,36.0,1.7,130.0,3.0,7.9,25,15200,3.0,yes,no,no,poor,no,yes,ckd\\n148,69.0,60.0,,,,,,notpresent,notpresent,171.0,26.0,48.1,,,,,,,yes,no,no,poor,no,no,ckd\\n149,65.0,70.0,1.02,1.0,0.0,abnormal,abnormal,notpresent,notpresent,139.0,29.0,1.0,,,10.5,32,,,yes,no,no,good,yes,no,ckd\\n150,8.0,60.0,1.025,3.0,0.0,normal,normal,notpresent,notpresent,78.0,27.0,0.9,,,12.3,41,6700,,no,no,no,poor,yes,no,ckd\\n151,76.0,90.0,,,,,,notpresent,notpresent,172.0,46.0,1.7,141.0,5.5,9.6,30,,,yes,yes,no,good,no,yes,ckd\\n152,39.0,70.0,1.01,0.0,0.0,,normal,notpresent,notpresent,121.0,20.0,0.8,133.0,3.5,10.9,32,,,no,yes,no,good,no,no,ckd\\n153,55.0,90.0,1.01,2.0,1.0,abnormal,abnormal,notpresent,notpresent,273.0,235.0,14.2,132.0,3.4,8.3,22,14600,2.9,yes,yes,no,poor,yes,yes,ckd\\n154,56.0,90.0,1.005,4.0,3.0,abnormal,abnormal,notpresent,notpresent,242.0,132.0,16.4,140.0,4.2,8.4,26,,3,yes,yes,no,poor,yes,yes,ckd\\n155,50.0,70.0,1.02,3.0,0.0,abnormal,normal,present,present,123.0,40.0,1.8,,,11.1,36,4700,,no,no,no,good,no,no,ckd\\n156,66.0,90.0,1.015,2.0,0.0,,normal,notpresent,present,153.0,76.0,3.3,,,,,,,no,no,no,poor,no,no,ckd\\n157,62.0,70.0,1.025,3.0,0.0,normal,abnormal,notpresent,notpresent,122.0,42.0,1.7,136.0,4.7,12.6,39,7900,3.9,yes,yes,no,good,no,no,ckd\\n158,71.0,60.0,1.02,3.0,2.0,normal,normal,present,notpresent,424.0,48.0,1.5,132.0,4.0,10.9,31,,,yes,yes,yes,good,no,no,ckd\\n159,59.0,80.0,1.01,1.0,0.0,abnormal,normal,notpresent,notpresent,303.0,35.0,1.3,122.0,3.5,10.4,35,10900,4.3,no,yes,no,poor,no,no,ckd\\n160,81.0,60.0,,,,,,notpresent,notpresent,148.0,39.0,2.1,147.0,4.2,10.9,35,9400,2.4,yes,yes,yes,poor,yes,no,ckd\\n161,62.0,,1.015,3.0,0.0,abnormal,,notpresent,notpresent,,,,,,14.3,42,10200,4.8,yes,yes,no,good,no,no,ckd\\n162,59.0,70.0,,,,,,notpresent,notpresent,204.0,34.0,1.5,124.0,4.1,9.8,37,6000,\\t?,no,yes,no,good,no,no,ckd\\n163,46.0,80.0,1.01,0.0,0.0,,normal,notpresent,notpresent,160.0,40.0,2.0,140.0,4.1,9.0,27,8100,3.2,yes,no,no,poor,no,yes,ckd\\n164,14.0,,1.015,0.0,0.0,,,notpresent,notpresent,192.0,15.0,0.8,137.0,4.2,14.3,40,9500,5.4,no,yes,no,poor,yes,no,ckd\\n165,60.0,80.0,1.02,0.0,2.0,,,notpresent,notpresent,,,,,,,,,,no,yes,no,good,no,no,ckd\\n166,27.0,60.0,,,,,,notpresent,notpresent,76.0,44.0,3.9,127.0,4.3,,,,,no,no,no,poor,yes,yes,ckd\\n167,34.0,70.0,1.02,0.0,0.0,abnormal,normal,notpresent,notpresent,139.0,19.0,0.9,,,12.7,42,2200,,no,no,no,poor,no,no,ckd\\n168,65.0,70.0,1.015,4.0,4.0,,normal,present,notpresent,307.0,28.0,1.5,,,11.0,39,6700,,yes,yes,no,good,no,no,ckd\\n169,,70.0,1.01,0.0,2.0,,normal,notpresent,notpresent,220.0,68.0,2.8,,,8.7,27,,,yes,yes,no,good,no,yes,ckd\\n170,66.0,70.0,1.015,2.0,5.0,,normal,notpresent,notpresent,447.0,41.0,1.7,131.0,3.9,12.5,33,9600,4.4,yes,yes,no,good,no,no,ckd\\n171,83.0,70.0,1.02,3.0,0.0,normal,normal,notpresent,notpresent,102.0,60.0,2.6,115.0,5.7,8.7,26,12800,3.1,yes,no,no,poor,no,yes,ckd\\n172,62.0,80.0,1.01,1.0,2.0,,,notpresent,notpresent,309.0,113.0,2.9,130.0,2.5,10.6,34,12800,4.9,no,no,no,good,no,no,ckd\\n173,17.0,70.0,1.015,1.0,0.0,abnormal,normal,notpresent,notpresent,22.0,1.5,7.3,145.0,2.8,13.1,41,11200,,no,no,no,good,no,no,ckd\\n174,54.0,70.0,,,,,,notpresent,notpresent,111.0,146.0,7.5,141.0,4.7,11.0,35,8600,4.6,no,no,no,good,no,no,ckd\\n175,60.0,50.0,1.01,0.0,0.0,,normal,notpresent,notpresent,261.0,58.0,2.2,113.0,3.0,,,4200,3.4,yes,no,no,good,no,no,ckd\\n176,21.0,90.0,1.01,4.0,0.0,normal,abnormal,present,present,107.0,40.0,1.7,125.0,3.5,8.3,23,12400,3.9,no,no,no,good,no,yes,ckd\\n177,65.0,80.0,1.015,2.0,1.0,normal,normal,present,notpresent,215.0,133.0,2.5,,,13.2,41,,,no,yes,no,good,no,no,ckd\\n178,42.0,90.0,1.02,2.0,0.0,abnormal,abnormal,present,notpresent,93.0,153.0,2.7,139.0,4.3,9.8,34,9800,,no,no,no,poor,yes,yes,ckd\\n179,72.0,90.0,1.01,2.0,0.0,,abnormal,present,notpresent,124.0,53.0,2.3,,,11.9,39,,,no,no,no,good,no,no,ckd\\n180,73.0,90.0,1.01,1.0,4.0,abnormal,abnormal,present,notpresent,234.0,56.0,1.9,,,10.3,28,,,no,yes,no,good,no,no,ckd\\n181,45.0,70.0,1.025,2.0,0.0,normal,abnormal,present,notpresent,117.0,52.0,2.2,136.0,3.8,10.0,30,19100,3.7,no,no,no,good,no,no,ckd\\n182,61.0,80.0,1.02,0.0,0.0,,normal,notpresent,notpresent,131.0,23.0,0.8,140.0,4.1,11.3,35,,,no,no,no,good,no,no,ckd\\n183,30.0,70.0,1.015,0.0,0.0,,normal,notpresent,notpresent,101.0,106.0,6.5,135.0,4.3,,,,,no,no,no,poor,no,no,ckd\\n184,54.0,60.0,1.015,3.0,2.0,,abnormal,notpresent,notpresent,352.0,137.0,3.3,133.0,4.5,11.3,31,5800,3.6,yes,yes,yes,poor,yes,no,ckd\\n185,4.0,,1.02,1.0,0.0,,normal,notpresent,notpresent,99.0,23.0,0.6,138.0,4.4,12.0,34,\\t?,,no,no,no,good,no,no,ckd\\n186,8.0,50.0,1.02,4.0,0.0,normal,normal,notpresent,notpresent,,46.0,1.0,135.0,3.8,,,,,no,no,no,good,yes,no,ckd\\n187,3.0,,1.01,2.0,0.0,normal,normal,notpresent,notpresent,,22.0,0.7,,,10.7,34,12300,,no,no,no,good,no,no,ckd\\n188,8.0,,,,,,,notpresent,notpresent,80.0,66.0,2.5,142.0,3.6,12.2,38,,,no,\\tno,no,good,no,no,ckd\\n189,64.0,60.0,1.01,4.0,1.0,abnormal,abnormal,notpresent,present,239.0,58.0,4.3,137.0,5.4,9.5,29,7500,3.4,yes,yes,no,poor,yes,no,ckd\\n190,6.0,60.0,1.01,4.0,0.0,abnormal,abnormal,notpresent,present,94.0,67.0,1.0,135.0,4.9,9.9,30,16700,4.8,no,no,no,poor,no,no,ckd\\n191,,70.0,1.01,3.0,0.0,normal,normal,notpresent,notpresent,110.0,115.0,6.0,134.0,2.7,9.1,26,9200,3.4,yes,yes,no,poor,no,no,ckd\\n192,46.0,110.0,1.015,0.0,0.0,,normal,notpresent,notpresent,130.0,16.0,0.9,,,,,,,no,no,no,good,no,no,ckd\\n193,32.0,90.0,1.025,1.0,0.0,abnormal,abnormal,notpresent,notpresent,,223.0,18.1,113.0,6.5,5.5,15,2600,2.8,yes,yes,no,poor,yes,yes,ckd\\n194,80.0,70.0,1.01,2.0,,,abnormal,notpresent,notpresent,,49.0,1.2,,,,,,,yes,\\tyes,no,good,no,no,ckd\\n195,70.0,90.0,1.02,2.0,1.0,abnormal,abnormal,notpresent,present,184.0,98.6,3.3,138.0,3.9,5.8,,,,yes,yes,yes,poor,no,no,ckd\\n196,49.0,100.0,1.01,3.0,0.0,abnormal,abnormal,notpresent,notpresent,129.0,158.0,11.8,122.0,3.2,8.1,24,9600,3.5,yes,yes,no,poor,yes,yes,ckd\\n197,57.0,80.0,,,,,,notpresent,notpresent,,111.0,9.3,124.0,5.3,6.8,,4300,3.0,yes,yes,no,good,no,yes,ckd\\n198,59.0,100.0,1.02,4.0,2.0,normal,normal,notpresent,notpresent,252.0,40.0,3.2,137.0,4.7,11.2,30,26400,3.9,yes,yes,no,poor,yes,no,ckd\\n199,65.0,80.0,1.015,0.0,0.0,,normal,notpresent,notpresent,92.0,37.0,1.5,140.0,5.2,8.8,25,10700,3.2,yes,no,yes,good,yes,no,ckd\\n200,90.0,90.0,1.025,1.0,0.0,,normal,notpresent,notpresent,139.0,89.0,3.0,140.0,4.1,12.0,37,7900,3.9,yes,yes,no,good,no,no,ckd\\n201,64.0,70.0,,,,,,notpresent,notpresent,113.0,94.0,7.3,137.0,4.3,7.9,21,,,yes,yes,yes,good,yes,yes,ckd\\n202,78.0,60.0,,,,,,notpresent,notpresent,114.0,74.0,2.9,135.0,5.9,8.0,24,,,no,yes,no,good,no,yes,ckd\\n203,,90.0,,,,,,notpresent,notpresent,207.0,80.0,6.8,142.0,5.5,8.5,,,,yes,yes,no,good,no,yes,ckd\\n204,65.0,90.0,1.01,4.0,2.0,normal,normal,notpresent,notpresent,172.0,82.0,13.5,145.0,6.3,8.8,31,,,yes,yes,no,good,yes,yes,ckd\\n205,61.0,70.0,,,,,,notpresent,notpresent,100.0,28.0,2.1,,,12.6,43,,,yes,yes,no,good,no,no,ckd\\n206,60.0,70.0,1.01,1.0,0.0,,normal,notpresent,notpresent,109.0,96.0,3.9,135.0,4.0,13.8,41,,,yes,no,no,good,no,no,ckd\\n207,50.0,70.0,1.01,0.0,0.0,,normal,notpresent,notpresent,230.0,50.0,2.2,,,12.0,41,10400,4.6,yes,yes,no,good,no,no,ckd\\n208,67.0,80.0,,,,,,notpresent,notpresent,341.0,37.0,1.5,,,12.3,41,6900,4.9,yes,yes,no,good,no,yes,ckd\\n209,19.0,70.0,1.02,0.0,0.0,,normal,notpresent,notpresent,,,,,,11.5,,6900,,no,no,no,good,no,no,ckd\\n210,59.0,100.0,1.015,4.0,2.0,normal,normal,notpresent,notpresent,255.0,132.0,12.8,135.0,5.7,7.3,20,9800,3.9,yes,yes,yes,good,no,yes,ckd\\n211,54.0,120.0,1.015,0.0,0.0,,normal,notpresent,notpresent,103.0,18.0,1.2,,,,,,,no,no,no,good,no,no,ckd\\n212,40.0,70.0,1.015,3.0,4.0,normal,normal,notpresent,notpresent,253.0,150.0,11.9,132.0,5.6,10.9,31,8800,3.4,yes,yes,no,poor,yes,no,ckd\\n213,55.0,80.0,1.01,3.0,1.0,normal,abnormal,present,present,214.0,73.0,3.9,137.0,4.9,10.9,34,7400,3.7,yes,yes,no,good,yes,no,ckd\\n214,68.0,80.0,1.015,0.0,0.0,,abnormal,notpresent,notpresent,171.0,30.0,1.0,,,13.7,\\t43,4900,5.2,no,yes,no,good,no,no,ckd\\n215,2.0,,1.01,3.0,0.0,normal,abnormal,notpresent,notpresent,,,,,,,,,,no,no,no,good,yes,no,ckd\\n216,64.0,70.0,1.01,0.0,0.0,,normal,notpresent,notpresent,107.0,15.0,,,,12.8,38,,,no,no,no,good,no,no,ckd\\n217,63.0,100.0,1.01,1.0,0.0,,normal,notpresent,notpresent,78.0,61.0,1.8,141.0,4.4,12.2,36,10500,4.3,no,yes,no,good,no,no,ckd\\n218,33.0,90.0,1.015,0.0,0.0,,normal,notpresent,notpresent,92.0,19.0,0.8,,,11.8,34,7000,,no,no,no,good,no,no,ckd\\n219,68.0,90.0,1.01,0.0,0.0,,normal,notpresent,notpresent,238.0,57.0,2.5,,,9.8,28,8000,3.3,yes,yes,no,poor,no,no,ckd\\n220,36.0,80.0,1.01,0.0,0.0,,normal,notpresent,notpresent,103.0,,,,,11.9,36,8800,,no,no,no,good,no,no,ckd\\n221,66.0,70.0,1.02,1.0,0.0,normal,,notpresent,notpresent,248.0,30.0,1.7,138.0,5.3,,,,,yes,yes,no,good,no,no,ckd\\n222,74.0,60.0,,,,,,notpresent,notpresent,108.0,68.0,1.8,,,,,,,yes,yes,no,good,no,no,ckd\\n223,71.0,90.0,1.01,0.0,3.0,,normal,notpresent,notpresent,303.0,30.0,1.3,136.0,4.1,13.0,38,9200,4.6,yes,yes,no,good,no,no,ckd\\n224,34.0,60.0,1.02,0.0,0.0,,normal,notpresent,notpresent,117.0,28.0,2.2,138.0,3.8,,,,,no,no,no,good,yes,no,ckd\\n225,60.0,90.0,1.01,3.0,5.0,abnormal,normal,notpresent,present,490.0,95.0,2.7,131.0,3.8,11.5,35,12000,4.5,yes,yes,no,good,no,no,ckd\\n226,64.0,100.0,1.015,4.0,2.0,abnormal,abnormal,notpresent,present,163.0,54.0,7.2,140.0,4.6,7.9,26,7500,3.4,yes,yes,no,good,yes,no,ckd\\n227,57.0,80.0,1.015,0.0,0.0,,normal,notpresent,notpresent,120.0,48.0,1.6,,,11.3,36,7200,3.8,yes,yes,no,good,no,no,ckd\\n228,60.0,70.0,,,,,,notpresent,notpresent,124.0,52.0,2.5,,,,,,,yes,no,no,good,no,no,ckd\\n229,59.0,50.0,1.01,3.0,0.0,normal,abnormal,notpresent,notpresent,241.0,191.0,12.0,114.0,2.9,9.6,31,15700,3.8,no,yes,no,good,yes,no,ckd\\n230,65.0,60.0,1.01,2.0,0.0,normal,abnormal,present,notpresent,192.0,17.0,1.7,130.0,4.3,,,9500,,yes,yes,no,poor,no,no,ckd\\t\\n231,60.0,90.0,,,,,,notpresent,notpresent,269.0,51.0,2.8,138.0,3.7,11.5,35,,,yes,yes,yes,good,yes,no,ckd\\n232,50.0,90.0,1.015,1.0,0.0,abnormal,abnormal,notpresent,notpresent,,,,,,,,,,no,no,no,good,yes,no,ckd\\n233,51.0,100.0,1.015,2.0,0.0,normal,normal,notpresent,present,93.0,20.0,1.6,146.0,4.5,,,,,no,no,no,poor,no,no,ckd\\n234,37.0,100.0,1.01,0.0,0.0,abnormal,normal,notpresent,notpresent,,19.0,1.3,,,15.0,44,4100,5.2,yes,no,no,good,no,no,ckd\\n235,45.0,70.0,1.01,2.0,0.0,,normal,notpresent,notpresent,113.0,93.0,2.3,,,7.9,26,5700,,no,no,yes,good,no,yes,ckd\\n236,65.0,80.0,,,,,,notpresent,notpresent,74.0,66.0,2.0,136.0,5.4,9.1,25,,,yes,yes,yes,good,yes,no,ckd\\n237,80.0,70.0,1.015,2.0,2.0,,normal,notpresent,notpresent,141.0,53.0,2.2,,,12.7,40,9600,,yes,yes,no,poor,yes,no,ckd\\n238,72.0,100.0,,,,,,notpresent,notpresent,201.0,241.0,13.4,127.0,4.8,9.4,28,,,yes,yes,no,good,no,yes,ckd\\n239,34.0,90.0,1.015,2.0,0.0,normal,normal,notpresent,notpresent,104.0,50.0,1.6,137.0,4.1,11.9,39,,,no,no,no,good,no,no,ckd\\n240,65.0,70.0,1.015,1.0,0.0,,normal,notpresent,notpresent,203.0,46.0,1.4,,,11.4,36,5000,4.1,yes,yes,no,poor,yes,no,ckd\\n241,57.0,70.0,1.015,1.0,0.0,,abnormal,notpresent,notpresent,165.0,45.0,1.5,140.0,3.3,10.4,31,4200,3.9,no,no,no,good,no,no,ckd\\n242,69.0,70.0,1.01,4.0,3.0,normal,abnormal,present,present,214.0,96.0,6.3,120.0,3.9,9.4,28,11500,3.3,yes,yes,yes,good,yes,yes,ckd\\n243,62.0,90.0,1.02,2.0,1.0,,normal,notpresent,notpresent,169.0,48.0,2.4,138.0,2.9,13.4,47,11000,6.1,yes,no,no,good,no,no,ckd\\n244,64.0,90.0,1.015,3.0,2.0,,abnormal,present,notpresent,463.0,64.0,2.8,135.0,4.1,12.2,40,9800,4.6,yes,yes,no,good,no,yes,ckd\\n245,48.0,100.0,,,,,,notpresent,notpresent,103.0,79.0,5.3,135.0,6.3,6.3,19,7200,2.6,yes,no,yes,poor,no,no,ckd\\n246,48.0,110.0,1.015,3.0,0.0,abnormal,normal,present,notpresent,106.0,215.0,15.2,120.0,5.7,8.6,26,5000,2.5,yes,no,yes,good,no,yes,ckd\\n247,54.0,90.0,1.025,1.0,0.0,normal,abnormal,notpresent,notpresent,150.0,18.0,1.2,140.0,4.2,,,,,no,no,no,poor,yes,yes,ckd\\n248,59.0,70.0,1.01,1.0,3.0,abnormal,abnormal,notpresent,notpresent,424.0,55.0,1.7,138.0,4.5,12.6,37,10200,4.1,yes,yes,yes,good,no,no,ckd\\n249,56.0,90.0,1.01,4.0,1.0,normal,abnormal,present,notpresent,176.0,309.0,13.3,124.0,6.5,3.1,9,5400,2.1,yes,yes,no,poor,yes,yes,ckd\\n250,40.0,80.0,1.025,0.0,0.0,normal,normal,notpresent,notpresent,140.0,10.0,1.2,135.0,5.0,15.0,48,10400,4.5,no,no,no,good,no,no,notckd\\n251,23.0,80.0,1.025,0.0,0.0,normal,normal,notpresent,notpresent,70.0,36.0,1.0,150.0,4.6,17.0,52,9800,5.0,no,no,no,good,no,no,notckd\\n252,45.0,80.0,1.025,0.0,0.0,normal,normal,notpresent,notpresent,82.0,49.0,0.6,147.0,4.4,15.9,46,9100,4.7,no,no,no,good,no,no,notckd\\n253,57.0,80.0,1.025,0.0,0.0,normal,normal,notpresent,notpresent,119.0,17.0,1.2,135.0,4.7,15.4,42,6200,6.2,no,no,no,good,no,no,notckd\\n254,51.0,60.0,1.025,0.0,0.0,normal,normal,notpresent,notpresent,99.0,38.0,0.8,135.0,3.7,13.0,49,8300,5.2,no,no,no,good,no,no,notckd\\n255,34.0,80.0,1.025,0.0,0.0,normal,normal,notpresent,notpresent,121.0,27.0,1.2,144.0,3.9,13.6,52,9200,6.3,no,no,no,good,no,no,notckd\\n256,60.0,80.0,1.025,0.0,0.0,normal,normal,notpresent,notpresent,131.0,10.0,0.5,146.0,5.0,14.5,41,10700,5.1,no,no,no,good,no,no,notckd\\n257,38.0,60.0,1.02,0.0,0.0,normal,normal,notpresent,notpresent,91.0,36.0,0.7,135.0,3.7,14.0,46,9100,5.8,no,no,no,good,no,no,notckd\\n258,42.0,80.0,1.02,0.0,0.0,normal,normal,notpresent,notpresent,98.0,20.0,0.5,140.0,3.5,13.9,44,8400,5.5,no,no,no,good,no,no,notckd\\n259,35.0,80.0,1.02,0.0,0.0,normal,normal,notpresent,notpresent,104.0,31.0,1.2,135.0,5.0,16.1,45,4300,5.2,no,no,no,good,no,no,notckd\\n260,30.0,80.0,1.02,0.0,0.0,normal,normal,notpresent,notpresent,131.0,38.0,1.0,147.0,3.8,14.1,45,9400,5.3,no,no,no,good,no,no,notckd\\n261,49.0,80.0,1.02,0.0,0.0,normal,normal,notpresent,notpresent,122.0,32.0,1.2,139.0,3.9,17.0,41,5600,4.9,no,no,no,good,no,no,notckd\\n262,55.0,80.0,1.02,0.0,0.0,normal,normal,notpresent,notpresent,118.0,18.0,0.9,135.0,3.6,15.5,43,7200,5.4,no,no,no,good,no,no,notckd\\n263,45.0,80.0,1.02,0.0,0.0,normal,normal,notpresent,notpresent,117.0,46.0,1.2,137.0,5.0,16.2,45,8600,5.2,no,no,no,good,no,no,notckd\\n264,42.0,80.0,1.02,0.0,0.0,normal,normal,notpresent,notpresent,132.0,24.0,0.7,140.0,4.1,14.4,50,5000,4.5,no,no,no,good,no,no,notckd\\n265,50.0,80.0,1.02,0.0,0.0,normal,normal,notpresent,notpresent,97.0,40.0,0.6,150.0,4.5,14.2,48,10500,5.0,no,no,no,good,no,no,notckd\\n266,55.0,80.0,1.02,0.0,0.0,normal,normal,notpresent,notpresent,133.0,17.0,1.2,135.0,4.8,13.2,41,6800,5.3,no,no,no,good,no,no,notckd\\n267,48.0,80.0,1.025,0.0,0.0,normal,normal,notpresent,notpresent,122.0,33.0,0.9,146.0,3.9,13.9,48,9500,4.8,no,no,no,good,no,no,notckd\\n268,,80.0,,,,,,notpresent,notpresent,100.0,49.0,1.0,140.0,5.0,16.3,53,8500,4.9,no,no,no,good,no,no,notckd\\n269,25.0,80.0,1.025,0.0,0.0,normal,normal,notpresent,notpresent,121.0,19.0,1.2,142.0,4.9,15.0,48,6900,5.3,no,no,no,good,no,no,notckd\\n270,23.0,80.0,1.025,0.0,0.0,normal,normal,notpresent,notpresent,111.0,34.0,1.1,145.0,4.0,14.3,41,7200,5.0,no,no,no,good,no,no,notckd\\n271,30.0,80.0,1.025,0.0,0.0,normal,normal,notpresent,notpresent,96.0,25.0,0.5,144.0,4.8,13.8,42,9000,4.5,no,no,no,good,no,no,notckd\\n272,56.0,80.0,1.025,0.0,0.0,normal,normal,notpresent,notpresent,139.0,15.0,1.2,135.0,5.0,14.8,42,5600,5.5,no,no,no,good,no,no,notckd\\n273,47.0,80.0,1.02,0.0,0.0,normal,normal,notpresent,notpresent,95.0,35.0,0.9,140.0,4.1,,,,,no,no,no,good,no,no,notckd\\n274,19.0,80.0,1.02,0.0,0.0,normal,normal,notpresent,notpresent,107.0,23.0,0.7,141.0,4.2,14.4,44,,,no,no,no,good,no,no,notckd\\n275,52.0,80.0,1.02,0.0,0.0,normal,normal,notpresent,notpresent,125.0,22.0,1.2,139.0,4.6,16.5,43,4700,4.6,no,no,no,good,no,no,notckd\\n276,20.0,60.0,1.025,0.0,0.0,normal,normal,notpresent,notpresent,,,,137.0,4.7,14.0,41,4500,5.5,no,no,no,good,no,no,notckd\\n277,46.0,60.0,1.025,0.0,0.0,normal,normal,notpresent,notpresent,123.0,46.0,1.0,135.0,5.0,15.7,50,6300,4.8,no,no,no,good,no,no,notckd\\n278,48.0,60.0,1.02,0.0,0.0,normal,normal,notpresent,notpresent,112.0,44.0,1.2,142.0,4.9,14.5,44,9400,6.4,no,no,no,good,no,no,notckd\\n279,24.0,70.0,1.025,0.0,0.0,normal,normal,notpresent,notpresent,140.0,23.0,0.6,140.0,4.7,16.3,48,5800,5.6,no,no,no,good,no,no,notckd\\n280,47.0,80.0,,,,,,notpresent,notpresent,93.0,33.0,0.9,144.0,4.5,13.3,52,8100,5.2,no,no,no,good,no,no,notckd\\n281,55.0,80.0,1.025,0.0,0.0,normal,normal,notpresent,notpresent,130.0,50.0,1.2,147.0,5.0,15.5,41,9100,6.0,no,no,no,good,no,no,notckd\\n282,20.0,70.0,1.02,0.0,0.0,normal,normal,notpresent,notpresent,123.0,44.0,1.0,135.0,3.8,14.6,44,5500,4.8,no,no,no,good,no,no,notckd\\n283,60.0,70.0,1.02,0.0,0.0,normal,normal,notpresent,notpresent,,,,,,16.4,43,10800,5.7,no,no,no,good,no,no,notckd\\n284,33.0,80.0,1.025,0.0,0.0,normal,normal,notpresent,notpresent,100.0,37.0,1.2,142.0,4.0,16.9,52,6700,6.0,no,no,no,good,no,no,notckd\\n285,66.0,70.0,1.02,0.0,0.0,normal,normal,notpresent,notpresent,94.0,19.0,0.7,135.0,3.9,16.0,41,5300,5.9,no,no,no,good,no,no,notckd\\n286,71.0,70.0,1.02,0.0,0.0,normal,normal,notpresent,notpresent,81.0,18.0,0.8,145.0,5.0,14.7,44,9800,6.0,no,no,no,good,no,no,notckd\\n287,39.0,70.0,1.025,0.0,0.0,normal,normal,notpresent,notpresent,124.0,22.0,0.6,137.0,3.8,13.4,43,,,no,no,no,good,no,no,notckd\\n288,56.0,70.0,1.025,0.0,0.0,normal,normal,notpresent,notpresent,70.0,46.0,1.2,135.0,4.9,15.9,50,11000,5.1,,,,good,no,no,notckd\\n289,42.0,70.0,1.02,0.0,0.0,normal,normal,notpresent,notpresent,93.0,32.0,0.9,143.0,4.7,16.6,43,7100,5.3,no,no,no,good,no,no,notckd\\n290,54.0,70.0,1.02,0.0,0.0,,,,,76.0,28.0,0.6,146.0,3.5,14.8,52,8400,5.9,no,no,no,good,no,no,notckd\\n291,47.0,80.0,1.025,0.0,0.0,normal,normal,notpresent,notpresent,124.0,44.0,1.0,140.0,4.9,14.9,41,7000,5.7,no,no,no,good,no,no,notckd\\n292,30.0,80.0,1.02,0.0,0.0,normal,normal,notpresent,notpresent,89.0,42.0,0.5,139.0,5.0,16.7,52,10200,5.0,no,no,no,good,no,no,notckd\\n293,50.0,,1.02,0.0,0.0,normal,normal,notpresent,notpresent,92.0,19.0,1.2,150.0,4.8,14.9,48,4700,5.4,no,no,no,good,no,no,notckd\\n294,75.0,60.0,1.02,0.0,0.0,normal,normal,notpresent,notpresent,110.0,50.0,0.7,135.0,5.0,14.3,40,8300,5.8,no,no,no,,,,notckd\\n295,44.0,70.0,,,,,,notpresent,notpresent,106.0,25.0,0.9,150.0,3.6,15.0,50,9600,6.5,no,no,no,good,no,no,notckd\\n296,41.0,70.0,1.02,0.0,0.0,normal,normal,notpresent,notpresent,125.0,38.0,0.6,140.0,5.0,16.8,41,6300,5.9,no,no,no,good,no,no,notckd\\n297,53.0,60.0,1.025,0.0,0.0,normal,normal,notpresent,notpresent,116.0,26.0,1.0,146.0,4.9,15.8,45,7700,5.2,,,,good,no,no,notckd\\n298,34.0,60.0,1.02,0.0,0.0,normal,normal,notpresent,notpresent,91.0,49.0,1.2,135.0,4.5,13.5,48,8600,4.9,no,no,no,good,no,no,notckd\\n299,73.0,60.0,1.02,0.0,0.0,normal,normal,notpresent,notpresent,127.0,48.0,0.5,150.0,3.5,15.1,52,11000,4.7,no,no,no,good,no,no,notckd\\n300,45.0,60.0,1.02,0.0,0.0,normal,normal,,,114.0,26.0,0.7,141.0,4.2,15.0,43,9200,5.8,no,no,no,good,no,no,notckd\\n301,44.0,60.0,1.025,0.0,0.0,normal,normal,notpresent,notpresent,96.0,33.0,0.9,147.0,4.5,16.9,41,7200,5.0,no,no,no,good,no,no,notckd\\n302,29.0,70.0,1.02,0.0,0.0,normal,normal,notpresent,notpresent,127.0,44.0,1.2,145.0,5.0,14.8,48,,,no,no,no,good,no,no,notckd\\n303,55.0,70.0,1.02,0.0,0.0,normal,normal,notpresent,notpresent,107.0,26.0,1.1,,,17.0,50,6700,6.1,no,no,no,good,no,no,notckd\\n304,33.0,80.0,1.025,0.0,0.0,normal,normal,notpresent,notpresent,128.0,38.0,0.6,135.0,3.9,13.1,45,6200,4.5,no,no,no,good,no,no,notckd\\n305,41.0,80.0,1.02,0.0,0.0,normal,normal,notpresent,notpresent,122.0,25.0,0.8,138.0,5.0,17.1,41,9100,5.2,no,no,no,good,no,no,notckd\\n306,52.0,80.0,1.02,0.0,0.0,normal,normal,notpresent,notpresent,128.0,30.0,1.2,140.0,4.5,15.2,52,4300,5.7,no,no,no,good,no,no,notckd\\n307,47.0,60.0,1.02,0.0,0.0,normal,normal,notpresent,notpresent,137.0,17.0,0.5,150.0,3.5,13.6,44,7900,4.5,no,no,no,good,no,no,notckd\\n308,43.0,80.0,1.025,0.0,0.0,normal,normal,notpresent,notpresent,81.0,46.0,0.6,135.0,4.9,13.9,48,6900,4.9,no,no,no,good,no,no,notckd\\n309,51.0,60.0,1.02,0.0,0.0,,,notpresent,notpresent,129.0,25.0,1.2,139.0,5.0,17.2,40,8100,5.9,no,no,no,good,no,no,notckd\\n310,46.0,60.0,1.02,0.0,0.0,normal,normal,notpresent,notpresent,102.0,27.0,0.7,142.0,4.9,13.2,44,11000,5.4,no,no,no,good,no,no,notckd\\n311,56.0,60.0,1.025,0.0,0.0,normal,normal,notpresent,notpresent,132.0,18.0,1.1,147.0,4.7,13.7,45,7500,5.6,no,no,no,good,no,no,notckd\\n312,80.0,70.0,1.02,0.0,0.0,normal,normal,notpresent,notpresent,,,,135.0,4.1,15.3,48,6300,6.1,no,no,no,good,no,no,notckd\\n313,55.0,80.0,1.02,0.0,0.0,normal,normal,notpresent,notpresent,104.0,28.0,0.9,142.0,4.8,17.3,52,8200,4.8,no,no,no,good,no,no,notckd\\n314,39.0,70.0,1.025,0.0,0.0,normal,normal,notpresent,notpresent,131.0,46.0,0.6,145.0,5.0,15.6,41,9400,4.7,no,no,no,good,no,no,notckd\\n315,44.0,70.0,1.025,0.0,0.0,normal,normal,notpresent,notpresent,,,,,,13.8,48,7800,4.4,no,no,no,good,no,no,notckd\\n316,35.0,,1.02,0.0,0.0,normal,normal,,,99.0,30.0,0.5,135.0,4.9,15.4,48,5000,5.2,no,no,no,good,no,no,notckd\\n317,58.0,70.0,1.02,0.0,0.0,normal,normal,notpresent,notpresent,102.0,48.0,1.2,139.0,4.3,15.0,40,8100,4.9,no,no,no,good,no,no,notckd\\n318,61.0,70.0,1.025,0.0,0.0,normal,normal,notpresent,notpresent,120.0,29.0,0.7,137.0,3.5,17.4,52,7000,5.3,no,no,no,good,no,no,notckd\\n319,30.0,60.0,1.02,0.0,0.0,normal,normal,notpresent,notpresent,138.0,15.0,1.1,135.0,4.4,,,,,no,no,no,good,no,no,notckd\\n320,57.0,60.0,1.02,0.0,0.0,normal,normal,notpresent,notpresent,105.0,49.0,1.2,150.0,4.7,15.7,44,10400,6.2,no,no,no,good,no,no,notckd\\n321,65.0,60.0,1.02,0.0,0.0,normal,normal,notpresent,notpresent,109.0,39.0,1.0,144.0,3.5,13.9,48,9600,4.8,no,no,no,good,no,no,notckd\\n322,70.0,60.0,,,,,,notpresent,notpresent,120.0,40.0,0.5,140.0,4.6,16.0,43,4500,4.9,no,no,no,good,no,no,notckd\\n323,43.0,80.0,1.025,0.0,0.0,normal,normal,notpresent,notpresent,130.0,30.0,1.1,143.0,5.0,15.9,45,7800,4.5,no,no,no,good,no,no,notckd\\n324,40.0,80.0,1.02,0.0,0.0,normal,normal,notpresent,notpresent,119.0,15.0,0.7,150.0,4.9,,,,,no,no,no,good,no,no,notckd\\n325,58.0,80.0,1.02,0.0,0.0,normal,normal,notpresent,notpresent,100.0,50.0,1.2,140.0,3.5,14.0,50,6700,6.5,no,no,no,good,no,no,notckd\\n326,47.0,60.0,1.02,0.0,0.0,normal,normal,notpresent,notpresent,109.0,25.0,1.1,141.0,4.7,15.8,41,8300,5.2,no,no,no,good,no,no,notckd\\n327,30.0,60.0,1.025,0.0,0.0,normal,normal,notpresent,notpresent,120.0,31.0,0.8,150.0,4.6,13.4,44,10700,5.8,no,no,no,good,no,no,notckd\\n328,28.0,70.0,1.02,0.0,0.0,normal,normal,,,131.0,29.0,0.6,145.0,4.9,,45,8600,6.5,no,no,no,good,no,no,notckd\\n329,33.0,60.0,1.025,0.0,0.0,normal,normal,notpresent,notpresent,80.0,25.0,0.9,146.0,3.5,14.1,48,7800,5.1,no,no,no,good,no,no,notckd\\n330,43.0,80.0,1.02,0.0,0.0,normal,normal,notpresent,notpresent,114.0,32.0,1.1,135.0,3.9,,42,,,no,no,no,good,no,no,notckd\\n331,59.0,70.0,1.025,0.0,0.0,normal,normal,notpresent,notpresent,130.0,39.0,0.7,147.0,4.7,13.5,46,6700,4.5,no,no,no,good,no,no,notckd\\n332,34.0,70.0,1.025,0.0,0.0,normal,normal,notpresent,notpresent,,33.0,1.0,150.0,5.0,15.3,44,10500,6.1,no,no,no,good,no,no,notckd\\n333,23.0,80.0,1.02,0.0,0.0,normal,normal,notpresent,notpresent,99.0,46.0,1.2,142.0,4.0,17.7,46,4300,5.5,no,no,no,good,no,no,notckd\\n334,24.0,80.0,1.025,0.0,0.0,normal,normal,notpresent,notpresent,125.0,,,136.0,3.5,15.4,43,5600,4.5,no,no,no,good,no,no,notckd\\n335,60.0,60.0,1.02,0.0,0.0,normal,normal,notpresent,notpresent,134.0,45.0,0.5,139.0,4.8,14.2,48,10700,5.6,no,no,no,good,no,no,notckd\\n336,25.0,60.0,1.02,0.0,0.0,normal,normal,notpresent,notpresent,119.0,27.0,0.5,,,15.2,40,9200,5.2,no,no,no,good,no,no,notckd\\n337,44.0,70.0,1.025,0.0,0.0,normal,normal,notpresent,notpresent,92.0,40.0,0.9,141.0,4.9,14.0,52,7500,6.2,no,no,no,good,no,no,notckd\\n338,62.0,80.0,1.02,0.0,0.0,normal,normal,notpresent,notpresent,132.0,34.0,0.8,147.0,3.5,17.8,44,4700,4.5,no,no,no,good,no,no,notckd\\n339,25.0,70.0,1.02,0.0,0.0,normal,normal,notpresent,notpresent,88.0,42.0,0.5,136.0,3.5,13.3,48,7000,4.9,no,no,no,good,no,no,notckd\\n340,32.0,70.0,1.025,0.0,0.0,normal,normal,notpresent,notpresent,100.0,29.0,1.1,142.0,4.5,14.3,43,6700,5.9,no,no,no,good,no,no,notckd\\n341,63.0,70.0,1.025,0.0,0.0,normal,normal,notpresent,notpresent,130.0,37.0,0.9,150.0,5.0,13.4,41,7300,4.7,no,no,no,good,no,no,notckd\\n342,44.0,60.0,1.02,0.0,0.0,normal,normal,notpresent,notpresent,95.0,46.0,0.5,138.0,4.2,15.0,50,7700,6.3,no,no,no,good,no,no,notckd\\n343,37.0,60.0,1.025,0.0,0.0,normal,normal,notpresent,notpresent,111.0,35.0,0.8,135.0,4.1,16.2,50,5500,5.7,no,no,no,good,no,no,notckd\\n344,64.0,60.0,1.02,0.0,0.0,normal,normal,notpresent,notpresent,106.0,27.0,0.7,150.0,3.3,14.4,42,8100,4.7,no,no,no,good,no,no,notckd\\n345,22.0,60.0,1.025,0.0,0.0,normal,normal,notpresent,notpresent,97.0,18.0,1.2,138.0,4.3,13.5,42,7900,6.4,no,no,no,good,no,no,notckd\\n346,33.0,60.0,,,,normal,normal,notpresent,notpresent,130.0,41.0,0.9,141.0,4.4,15.5,52,4300,5.8,no,no,no,good,no,no,notckd\\n347,43.0,60.0,1.025,0.0,0.0,normal,normal,notpresent,notpresent,108.0,25.0,1.0,144.0,5.0,17.8,43,7200,5.5,no,no,no,good,no,no,notckd\\n348,38.0,80.0,1.02,0.0,0.0,normal,normal,notpresent,notpresent,99.0,19.0,0.5,147.0,3.5,13.6,44,7300,6.4,no,no,no,good,no,no,notckd\\n349,35.0,70.0,1.025,0.0,0.0,,,notpresent,notpresent,82.0,36.0,1.1,150.0,3.5,14.5,52,9400,6.1,no,no,no,good,no,no,notckd\\n350,65.0,70.0,1.025,0.0,0.0,,,notpresent,notpresent,85.0,20.0,1.0,142.0,4.8,16.1,43,9600,4.5,no,no,no,good,no,no,notckd\\n351,29.0,80.0,1.02,0.0,0.0,normal,normal,notpresent,notpresent,83.0,49.0,0.9,139.0,3.3,17.5,40,9900,4.7,no,no,no,good,no,no,notckd\\n352,37.0,60.0,1.02,0.0,0.0,normal,normal,notpresent,notpresent,109.0,47.0,1.1,141.0,4.9,15.0,48,7000,5.2,no,no,no,good,no,no,notckd\\n353,39.0,60.0,1.02,0.0,0.0,normal,normal,notpresent,notpresent,86.0,37.0,0.6,150.0,5.0,13.6,51,5800,4.5,no,no,no,good,no,no,notckd\\n354,32.0,60.0,1.025,0.0,0.0,normal,normal,notpresent,notpresent,102.0,17.0,0.4,147.0,4.7,14.6,41,6800,5.1,no,no,no,good,no,no,notckd\\n355,23.0,60.0,1.02,0.0,0.0,normal,normal,notpresent,notpresent,95.0,24.0,0.8,145.0,5.0,15.0,52,6300,4.6,no,no,no,good,no,no,notckd\\n356,34.0,70.0,1.025,0.0,0.0,normal,normal,notpresent,notpresent,87.0,38.0,0.5,144.0,4.8,17.1,47,7400,6.1,no,no,no,good,no,no,notckd\\n357,66.0,70.0,1.025,0.0,0.0,normal,normal,notpresent,notpresent,107.0,16.0,1.1,140.0,3.6,13.6,42,11000,4.9,no,no,no,good,no,no,notckd\\n358,47.0,60.0,1.02,0.0,0.0,normal,normal,notpresent,notpresent,117.0,22.0,1.2,138.0,3.5,13.0,45,5200,5.6,no,no,no,good,no,no,notckd\\n359,74.0,60.0,1.02,0.0,0.0,normal,normal,notpresent,notpresent,88.0,50.0,0.6,147.0,3.7,17.2,53,6000,4.5,no,no,no,good,no,no,notckd\\n360,35.0,60.0,1.025,0.0,0.0,normal,normal,notpresent,notpresent,105.0,39.0,0.5,135.0,3.9,14.7,43,5800,6.2,no,no,no,good,no,no,notckd\\n361,29.0,80.0,1.02,0.0,0.0,normal,normal,notpresent,notpresent,70.0,16.0,0.7,138.0,3.5,13.7,54,5400,5.8,no,no,no,good,no,no,notckd\\n362,33.0,80.0,1.025,0.0,0.0,normal,normal,notpresent,notpresent,89.0,19.0,1.1,144.0,5.0,15.0,40,10300,4.8,no,no,no,good,no,no,notckd\\n363,67.0,80.0,1.025,0.0,0.0,normal,normal,notpresent,notpresent,99.0,40.0,0.5,,,17.8,44,5900,5.2,no,no,no,good,no,no,notckd\\n364,73.0,80.0,1.025,0.0,0.0,normal,normal,notpresent,notpresent,118.0,44.0,0.7,137.0,3.5,14.8,45,9300,4.7,no,no,no,good,no,no,notckd\\n365,24.0,80.0,1.02,0.0,0.0,normal,normal,notpresent,notpresent,93.0,46.0,1.0,145.0,3.5,,,10700,6.3,no,no,no,good,no,no,notckd\\n366,60.0,80.0,1.025,0.0,0.0,normal,normal,notpresent,notpresent,81.0,15.0,0.5,141.0,3.6,15.0,46,10500,5.3,no,no,no,good,no,no,notckd\\n367,68.0,60.0,1.025,0.0,0.0,normal,normal,notpresent,notpresent,125.0,41.0,1.1,139.0,3.8,17.4,50,6700,6.1,no,no,no,good,no,no,notckd\\n368,30.0,80.0,1.025,0.0,0.0,normal,normal,notpresent,notpresent,82.0,42.0,0.7,146.0,5.0,14.9,45,9400,5.9,no,no,no,good,no,no,notckd\\n369,75.0,70.0,1.02,0.0,0.0,normal,normal,notpresent,notpresent,107.0,48.0,0.8,144.0,3.5,13.6,46,10300,4.8,no,no,no,good,no,no,notckd\\n370,69.0,70.0,1.02,0.0,0.0,normal,normal,notpresent,notpresent,83.0,42.0,1.2,139.0,3.7,16.2,50,9300,5.4,no,no,no,good,no,no,notckd\\n371,28.0,60.0,1.025,0.0,0.0,normal,normal,notpresent,notpresent,79.0,50.0,0.5,145.0,5.0,17.6,51,6500,5.0,no,no,no,good,no,no,notckd\\n372,72.0,60.0,1.02,0.0,0.0,normal,normal,notpresent,notpresent,109.0,26.0,0.9,150.0,4.9,15.0,52,10500,5.5,no,no,no,good,no,no,notckd\\n373,61.0,70.0,1.025,0.0,0.0,normal,normal,notpresent,notpresent,133.0,38.0,1.0,142.0,3.6,13.7,47,9200,4.9,no,no,no,good,no,no,notckd\\n374,79.0,80.0,1.025,0.0,0.0,normal,normal,notpresent,notpresent,111.0,44.0,1.2,146.0,3.6,16.3,40,8000,6.4,no,no,no,good,no,no,notckd\\n375,70.0,80.0,1.02,0.0,0.0,normal,normal,notpresent,notpresent,74.0,41.0,0.5,143.0,4.5,15.1,48,9700,5.6,no,no,no,good,no,no,notckd\\n376,58.0,70.0,1.025,0.0,0.0,normal,normal,notpresent,notpresent,88.0,16.0,1.1,147.0,3.5,16.4,53,9100,5.2,no,no,no,good,no,no,notckd\\n377,64.0,70.0,1.02,0.0,0.0,normal,normal,notpresent,notpresent,97.0,27.0,0.7,145.0,4.8,13.8,49,6400,4.8,no,no,no,good,no,no,notckd\\n378,71.0,60.0,1.025,0.0,0.0,normal,normal,notpresent,notpresent,,,0.9,140.0,4.8,15.2,42,7700,5.5,no,no,no,good,no,no,notckd\\n379,62.0,80.0,1.025,0.0,0.0,normal,normal,notpresent,notpresent,78.0,45.0,0.6,138.0,3.5,16.1,50,5400,5.7,no,no,no,good,no,no,notckd\\n380,59.0,60.0,1.02,0.0,0.0,normal,normal,notpresent,notpresent,113.0,23.0,1.1,139.0,3.5,15.3,54,6500,4.9,no,no,no,good,no,no,notckd\\n381,71.0,70.0,1.025,0.0,0.0,,,notpresent,notpresent,79.0,47.0,0.5,142.0,4.8,16.6,40,5800,5.9,no,no,no,good,no,no,notckd\\n382,48.0,80.0,1.025,0.0,0.0,normal,normal,notpresent,notpresent,75.0,22.0,0.8,137.0,5.0,16.8,51,6000,6.5,no,no,no,good,no,no,notckd\\n383,80.0,80.0,1.025,0.0,0.0,normal,normal,notpresent,notpresent,119.0,46.0,0.7,141.0,4.9,13.9,49,5100,5.0,no,no,no,good,no,no,notckd\\n384,57.0,60.0,1.02,0.0,0.0,normal,normal,notpresent,notpresent,132.0,18.0,1.1,150.0,4.7,15.4,42,11000,4.5,no,no,no,good,no,no,notckd\\n385,63.0,70.0,1.02,0.0,0.0,normal,normal,notpresent,notpresent,113.0,25.0,0.6,146.0,4.9,16.5,52,8000,5.1,no,no,no,good,no,no,notckd\\n386,46.0,70.0,1.025,0.0,0.0,normal,normal,notpresent,notpresent,100.0,47.0,0.5,142.0,3.5,16.4,43,5700,6.5,no,no,no,good,no,no,notckd\\n387,15.0,80.0,1.025,0.0,0.0,normal,normal,notpresent,notpresent,93.0,17.0,0.9,136.0,3.9,16.7,50,6200,5.2,no,no,no,good,no,no,notckd\\n388,51.0,80.0,1.02,0.0,0.0,normal,normal,notpresent,notpresent,94.0,15.0,1.2,144.0,3.7,15.5,46,9500,6.4,no,no,no,good,no,no,notckd\\n389,41.0,80.0,1.025,0.0,0.0,normal,normal,notpresent,notpresent,112.0,48.0,0.7,140.0,5.0,17.0,52,7200,5.8,no,no,no,good,no,no,notckd\\n390,52.0,80.0,1.025,0.0,0.0,normal,normal,notpresent,notpresent,99.0,25.0,0.8,135.0,3.7,15.0,52,6300,5.3,no,no,no,good,no,no,notckd\\n391,36.0,80.0,1.025,0.0,0.0,normal,normal,notpresent,notpresent,85.0,16.0,1.1,142.0,4.1,15.6,44,5800,6.3,no,no,no,good,no,no,notckd\\n392,57.0,80.0,1.02,0.0,0.0,normal,normal,notpresent,notpresent,133.0,48.0,1.2,147.0,4.3,14.8,46,6600,5.5,no,no,no,good,no,no,notckd\\n393,43.0,60.0,1.025,0.0,0.0,normal,normal,notpresent,notpresent,117.0,45.0,0.7,141.0,4.4,13.0,54,7400,5.4,no,no,no,good,no,no,notckd\\n394,50.0,80.0,1.02,0.0,0.0,normal,normal,notpresent,notpresent,137.0,46.0,0.8,139.0,5.0,14.1,45,9500,4.6,no,no,no,good,no,no,notckd\\n395,55.0,80.0,1.02,0.0,0.0,normal,normal,notpresent,notpresent,140.0,49.0,0.5,150.0,4.9,15.7,47,6700,4.9,no,no,no,good,no,no,notckd\\n396,42.0,70.0,1.025,0.0,0.0,normal,normal,notpresent,notpresent,75.0,31.0,1.2,141.0,3.5,16.5,54,7800,6.2,no,no,no,good,no,no,notckd\\n397,12.0,80.0,1.02,0.0,0.0,normal,normal,notpresent,notpresent,100.0,26.0,0.6,137.0,4.4,15.8,49,6600,5.4,no,no,no,good,no,no,notckd\\n398,17.0,60.0,1.025,0.0,0.0,normal,normal,notpresent,notpresent,114.0,50.0,1.0,135.0,4.9,14.2,51,7200,5.9,no,no,no,good,no,no,notckd\\n399,58.0,80.0,1.025,0.0,0.0,normal,normal,notpresent,notpresent,131.0,18.0,1.1,141.0,3.5,15.8,53,6800,6.1,no,no,no,good,no,no,notckd\\n'}"
            ]
          },
          "metadata": {},
          "execution_count": 32
        }
      ]
    },
    {
      "cell_type": "code",
      "source": [
        "data=pd.read_csv('/content/kidney_disease.csv')"
      ],
      "metadata": {
        "id": "JiY2WF-6ZLDE"
      },
      "execution_count": null,
      "outputs": []
    },
    {
      "cell_type": "code",
      "source": [
        "data.head()"
      ],
      "metadata": {
        "colab": {
          "base_uri": "https://localhost:8080/",
          "height": 299
        },
        "id": "0XZZ8L8LZV6C",
        "outputId": "5d637d72-2cfe-44e4-a098-f56e535e9967"
      },
      "execution_count": null,
      "outputs": [
        {
          "output_type": "execute_result",
          "data": {
            "text/plain": [
              "   id   age    bp     sg   al   su     rbc        pc         pcc          ba  \\\n",
              "0   0  48.0  80.0  1.020  1.0  0.0     NaN    normal  notpresent  notpresent   \n",
              "1   1   7.0  50.0  1.020  4.0  0.0     NaN    normal  notpresent  notpresent   \n",
              "2   2  62.0  80.0  1.010  2.0  3.0  normal    normal  notpresent  notpresent   \n",
              "3   3  48.0  70.0  1.005  4.0  0.0  normal  abnormal     present  notpresent   \n",
              "4   4  51.0  80.0  1.010  2.0  0.0  normal    normal  notpresent  notpresent   \n",
              "\n",
              "   ...  pcv    wc   rc  htn   dm  cad appet   pe  ane classification  \n",
              "0  ...   44  7800  5.2  yes  yes   no  good   no   no            ckd  \n",
              "1  ...   38  6000  NaN   no   no   no  good   no   no            ckd  \n",
              "2  ...   31  7500  NaN   no  yes   no  poor   no  yes            ckd  \n",
              "3  ...   32  6700  3.9  yes   no   no  poor  yes  yes            ckd  \n",
              "4  ...   35  7300  4.6   no   no   no  good   no   no            ckd  \n",
              "\n",
              "[5 rows x 26 columns]"
            ],
            "text/html": [
              "\n",
              "  <div id=\"df-ca667596-cc18-47cf-8c62-babe3450f5e7\">\n",
              "    <div class=\"colab-df-container\">\n",
              "      <div>\n",
              "<style scoped>\n",
              "    .dataframe tbody tr th:only-of-type {\n",
              "        vertical-align: middle;\n",
              "    }\n",
              "\n",
              "    .dataframe tbody tr th {\n",
              "        vertical-align: top;\n",
              "    }\n",
              "\n",
              "    .dataframe thead th {\n",
              "        text-align: right;\n",
              "    }\n",
              "</style>\n",
              "<table border=\"1\" class=\"dataframe\">\n",
              "  <thead>\n",
              "    <tr style=\"text-align: right;\">\n",
              "      <th></th>\n",
              "      <th>id</th>\n",
              "      <th>age</th>\n",
              "      <th>bp</th>\n",
              "      <th>sg</th>\n",
              "      <th>al</th>\n",
              "      <th>su</th>\n",
              "      <th>rbc</th>\n",
              "      <th>pc</th>\n",
              "      <th>pcc</th>\n",
              "      <th>ba</th>\n",
              "      <th>...</th>\n",
              "      <th>pcv</th>\n",
              "      <th>wc</th>\n",
              "      <th>rc</th>\n",
              "      <th>htn</th>\n",
              "      <th>dm</th>\n",
              "      <th>cad</th>\n",
              "      <th>appet</th>\n",
              "      <th>pe</th>\n",
              "      <th>ane</th>\n",
              "      <th>classification</th>\n",
              "    </tr>\n",
              "  </thead>\n",
              "  <tbody>\n",
              "    <tr>\n",
              "      <th>0</th>\n",
              "      <td>0</td>\n",
              "      <td>48.0</td>\n",
              "      <td>80.0</td>\n",
              "      <td>1.020</td>\n",
              "      <td>1.0</td>\n",
              "      <td>0.0</td>\n",
              "      <td>NaN</td>\n",
              "      <td>normal</td>\n",
              "      <td>notpresent</td>\n",
              "      <td>notpresent</td>\n",
              "      <td>...</td>\n",
              "      <td>44</td>\n",
              "      <td>7800</td>\n",
              "      <td>5.2</td>\n",
              "      <td>yes</td>\n",
              "      <td>yes</td>\n",
              "      <td>no</td>\n",
              "      <td>good</td>\n",
              "      <td>no</td>\n",
              "      <td>no</td>\n",
              "      <td>ckd</td>\n",
              "    </tr>\n",
              "    <tr>\n",
              "      <th>1</th>\n",
              "      <td>1</td>\n",
              "      <td>7.0</td>\n",
              "      <td>50.0</td>\n",
              "      <td>1.020</td>\n",
              "      <td>4.0</td>\n",
              "      <td>0.0</td>\n",
              "      <td>NaN</td>\n",
              "      <td>normal</td>\n",
              "      <td>notpresent</td>\n",
              "      <td>notpresent</td>\n",
              "      <td>...</td>\n",
              "      <td>38</td>\n",
              "      <td>6000</td>\n",
              "      <td>NaN</td>\n",
              "      <td>no</td>\n",
              "      <td>no</td>\n",
              "      <td>no</td>\n",
              "      <td>good</td>\n",
              "      <td>no</td>\n",
              "      <td>no</td>\n",
              "      <td>ckd</td>\n",
              "    </tr>\n",
              "    <tr>\n",
              "      <th>2</th>\n",
              "      <td>2</td>\n",
              "      <td>62.0</td>\n",
              "      <td>80.0</td>\n",
              "      <td>1.010</td>\n",
              "      <td>2.0</td>\n",
              "      <td>3.0</td>\n",
              "      <td>normal</td>\n",
              "      <td>normal</td>\n",
              "      <td>notpresent</td>\n",
              "      <td>notpresent</td>\n",
              "      <td>...</td>\n",
              "      <td>31</td>\n",
              "      <td>7500</td>\n",
              "      <td>NaN</td>\n",
              "      <td>no</td>\n",
              "      <td>yes</td>\n",
              "      <td>no</td>\n",
              "      <td>poor</td>\n",
              "      <td>no</td>\n",
              "      <td>yes</td>\n",
              "      <td>ckd</td>\n",
              "    </tr>\n",
              "    <tr>\n",
              "      <th>3</th>\n",
              "      <td>3</td>\n",
              "      <td>48.0</td>\n",
              "      <td>70.0</td>\n",
              "      <td>1.005</td>\n",
              "      <td>4.0</td>\n",
              "      <td>0.0</td>\n",
              "      <td>normal</td>\n",
              "      <td>abnormal</td>\n",
              "      <td>present</td>\n",
              "      <td>notpresent</td>\n",
              "      <td>...</td>\n",
              "      <td>32</td>\n",
              "      <td>6700</td>\n",
              "      <td>3.9</td>\n",
              "      <td>yes</td>\n",
              "      <td>no</td>\n",
              "      <td>no</td>\n",
              "      <td>poor</td>\n",
              "      <td>yes</td>\n",
              "      <td>yes</td>\n",
              "      <td>ckd</td>\n",
              "    </tr>\n",
              "    <tr>\n",
              "      <th>4</th>\n",
              "      <td>4</td>\n",
              "      <td>51.0</td>\n",
              "      <td>80.0</td>\n",
              "      <td>1.010</td>\n",
              "      <td>2.0</td>\n",
              "      <td>0.0</td>\n",
              "      <td>normal</td>\n",
              "      <td>normal</td>\n",
              "      <td>notpresent</td>\n",
              "      <td>notpresent</td>\n",
              "      <td>...</td>\n",
              "      <td>35</td>\n",
              "      <td>7300</td>\n",
              "      <td>4.6</td>\n",
              "      <td>no</td>\n",
              "      <td>no</td>\n",
              "      <td>no</td>\n",
              "      <td>good</td>\n",
              "      <td>no</td>\n",
              "      <td>no</td>\n",
              "      <td>ckd</td>\n",
              "    </tr>\n",
              "  </tbody>\n",
              "</table>\n",
              "<p>5 rows × 26 columns</p>\n",
              "</div>\n",
              "      <button class=\"colab-df-convert\" onclick=\"convertToInteractive('df-ca667596-cc18-47cf-8c62-babe3450f5e7')\"\n",
              "              title=\"Convert this dataframe to an interactive table.\"\n",
              "              style=\"display:none;\">\n",
              "        \n",
              "  <svg xmlns=\"http://www.w3.org/2000/svg\" height=\"24px\"viewBox=\"0 0 24 24\"\n",
              "       width=\"24px\">\n",
              "    <path d=\"M0 0h24v24H0V0z\" fill=\"none\"/>\n",
              "    <path d=\"M18.56 5.44l.94 2.06.94-2.06 2.06-.94-2.06-.94-.94-2.06-.94 2.06-2.06.94zm-11 1L8.5 8.5l.94-2.06 2.06-.94-2.06-.94L8.5 2.5l-.94 2.06-2.06.94zm10 10l.94 2.06.94-2.06 2.06-.94-2.06-.94-.94-2.06-.94 2.06-2.06.94z\"/><path d=\"M17.41 7.96l-1.37-1.37c-.4-.4-.92-.59-1.43-.59-.52 0-1.04.2-1.43.59L10.3 9.45l-7.72 7.72c-.78.78-.78 2.05 0 2.83L4 21.41c.39.39.9.59 1.41.59.51 0 1.02-.2 1.41-.59l7.78-7.78 2.81-2.81c.8-.78.8-2.07 0-2.86zM5.41 20L4 18.59l7.72-7.72 1.47 1.35L5.41 20z\"/>\n",
              "  </svg>\n",
              "      </button>\n",
              "      \n",
              "  <style>\n",
              "    .colab-df-container {\n",
              "      display:flex;\n",
              "      flex-wrap:wrap;\n",
              "      gap: 12px;\n",
              "    }\n",
              "\n",
              "    .colab-df-convert {\n",
              "      background-color: #E8F0FE;\n",
              "      border: none;\n",
              "      border-radius: 50%;\n",
              "      cursor: pointer;\n",
              "      display: none;\n",
              "      fill: #1967D2;\n",
              "      height: 32px;\n",
              "      padding: 0 0 0 0;\n",
              "      width: 32px;\n",
              "    }\n",
              "\n",
              "    .colab-df-convert:hover {\n",
              "      background-color: #E2EBFA;\n",
              "      box-shadow: 0px 1px 2px rgba(60, 64, 67, 0.3), 0px 1px 3px 1px rgba(60, 64, 67, 0.15);\n",
              "      fill: #174EA6;\n",
              "    }\n",
              "\n",
              "    [theme=dark] .colab-df-convert {\n",
              "      background-color: #3B4455;\n",
              "      fill: #D2E3FC;\n",
              "    }\n",
              "\n",
              "    [theme=dark] .colab-df-convert:hover {\n",
              "      background-color: #434B5C;\n",
              "      box-shadow: 0px 1px 3px 1px rgba(0, 0, 0, 0.15);\n",
              "      filter: drop-shadow(0px 1px 2px rgba(0, 0, 0, 0.3));\n",
              "      fill: #FFFFFF;\n",
              "    }\n",
              "  </style>\n",
              "\n",
              "      <script>\n",
              "        const buttonEl =\n",
              "          document.querySelector('#df-ca667596-cc18-47cf-8c62-babe3450f5e7 button.colab-df-convert');\n",
              "        buttonEl.style.display =\n",
              "          google.colab.kernel.accessAllowed ? 'block' : 'none';\n",
              "\n",
              "        async function convertToInteractive(key) {\n",
              "          const element = document.querySelector('#df-ca667596-cc18-47cf-8c62-babe3450f5e7');\n",
              "          const dataTable =\n",
              "            await google.colab.kernel.invokeFunction('convertToInteractive',\n",
              "                                                     [key], {});\n",
              "          if (!dataTable) return;\n",
              "\n",
              "          const docLinkHtml = 'Like what you see? Visit the ' +\n",
              "            '<a target=\"_blank\" href=https://colab.research.google.com/notebooks/data_table.ipynb>data table notebook</a>'\n",
              "            + ' to learn more about interactive tables.';\n",
              "          element.innerHTML = '';\n",
              "          dataTable['output_type'] = 'display_data';\n",
              "          await google.colab.output.renderOutput(dataTable, element);\n",
              "          const docLink = document.createElement('div');\n",
              "          docLink.innerHTML = docLinkHtml;\n",
              "          element.appendChild(docLink);\n",
              "        }\n",
              "      </script>\n",
              "    </div>\n",
              "  </div>\n",
              "  "
            ]
          },
          "metadata": {},
          "execution_count": 34
        }
      ]
    },
    {
      "cell_type": "code",
      "source": [
        "data.dtypes"
      ],
      "metadata": {
        "colab": {
          "base_uri": "https://localhost:8080/"
        },
        "id": "pFD6anrgZZlF",
        "outputId": "02be627f-0051-4c3f-df8c-ee7ef7929c8f"
      },
      "execution_count": null,
      "outputs": [
        {
          "output_type": "execute_result",
          "data": {
            "text/plain": [
              "id                  int64\n",
              "age               float64\n",
              "bp                float64\n",
              "sg                float64\n",
              "al                float64\n",
              "su                float64\n",
              "rbc                object\n",
              "pc                 object\n",
              "pcc                object\n",
              "ba                 object\n",
              "bgr               float64\n",
              "bu                float64\n",
              "sc                float64\n",
              "sod               float64\n",
              "pot               float64\n",
              "hemo              float64\n",
              "pcv                object\n",
              "wc                 object\n",
              "rc                 object\n",
              "htn                object\n",
              "dm                 object\n",
              "cad                object\n",
              "appet              object\n",
              "pe                 object\n",
              "ane                object\n",
              "classification     object\n",
              "dtype: object"
            ]
          },
          "metadata": {},
          "execution_count": 35
        }
      ]
    },
    {
      "cell_type": "code",
      "source": [
        "# Step 2: Preprocess the data\n",
        "# Handle missing values\n",
        "data = data.dropna()\n",
        "\n",
        "# Encode categorical variables if any\n",
        "\n",
        "# Split the data into features and labels\n",
        "X = data.drop('classification', axis=1)\n",
        "y = data['classification']\n"
      ],
      "metadata": {
        "id": "vFEZiYwwZchD"
      },
      "execution_count": null,
      "outputs": []
    },
    {
      "cell_type": "code",
      "source": [
        "drop_col=['rbc','pc','pcc','ba','pcv','wc','rc','htn','dm','cad','appet','pe','ane']"
      ],
      "metadata": {
        "id": "KQVXYnP0ZwQy"
      },
      "execution_count": null,
      "outputs": []
    },
    {
      "cell_type": "code",
      "source": [
        "x=X.drop(drop_col,axis=1)"
      ],
      "metadata": {
        "id": "5qvg5XAwa3g3"
      },
      "execution_count": null,
      "outputs": []
    },
    {
      "cell_type": "code",
      "source": [
        "x.dtypes"
      ],
      "metadata": {
        "colab": {
          "base_uri": "https://localhost:8080/"
        },
        "id": "i8knAXtfcWUW",
        "outputId": "5d2cb8ba-9fdf-4b6e-89de-9d02a66fe1ae"
      },
      "execution_count": null,
      "outputs": [
        {
          "output_type": "execute_result",
          "data": {
            "text/plain": [
              "id        int64\n",
              "age     float64\n",
              "bp      float64\n",
              "sg      float64\n",
              "al      float64\n",
              "su      float64\n",
              "bgr     float64\n",
              "bu      float64\n",
              "sc      float64\n",
              "sod     float64\n",
              "pot     float64\n",
              "hemo    float64\n",
              "dtype: object"
            ]
          },
          "metadata": {},
          "execution_count": 39
        }
      ]
    },
    {
      "cell_type": "code",
      "source": [
        "# Step 3: Split the data into training and testing sets\n",
        "X_train, X_test, y_train, y_test = train_test_split(x, y, test_size=0.2, random_state=42)\n"
      ],
      "metadata": {
        "id": "1E9NKvhIcy6x"
      },
      "execution_count": null,
      "outputs": []
    },
    {
      "cell_type": "code",
      "source": [],
      "metadata": {
        "id": "Wl_CziLIdHNO"
      },
      "execution_count": null,
      "outputs": []
    },
    {
      "cell_type": "code",
      "source": [
        "svm_model = SVC()\n",
        "svm_model.fit(X_train, y_train)\n"
      ],
      "metadata": {
        "colab": {
          "base_uri": "https://localhost:8080/",
          "height": 74
        },
        "id": "iZxNcDNVeO6M",
        "outputId": "fb5c3983-e63d-4b47-99c9-71ef5d72b223"
      },
      "execution_count": null,
      "outputs": [
        {
          "output_type": "execute_result",
          "data": {
            "text/plain": [
              "SVC()"
            ],
            "text/html": [
              "<style>#sk-container-id-4 {color: black;background-color: white;}#sk-container-id-4 pre{padding: 0;}#sk-container-id-4 div.sk-toggleable {background-color: white;}#sk-container-id-4 label.sk-toggleable__label {cursor: pointer;display: block;width: 100%;margin-bottom: 0;padding: 0.3em;box-sizing: border-box;text-align: center;}#sk-container-id-4 label.sk-toggleable__label-arrow:before {content: \"▸\";float: left;margin-right: 0.25em;color: #696969;}#sk-container-id-4 label.sk-toggleable__label-arrow:hover:before {color: black;}#sk-container-id-4 div.sk-estimator:hover label.sk-toggleable__label-arrow:before {color: black;}#sk-container-id-4 div.sk-toggleable__content {max-height: 0;max-width: 0;overflow: hidden;text-align: left;background-color: #f0f8ff;}#sk-container-id-4 div.sk-toggleable__content pre {margin: 0.2em;color: black;border-radius: 0.25em;background-color: #f0f8ff;}#sk-container-id-4 input.sk-toggleable__control:checked~div.sk-toggleable__content {max-height: 200px;max-width: 100%;overflow: auto;}#sk-container-id-4 input.sk-toggleable__control:checked~label.sk-toggleable__label-arrow:before {content: \"▾\";}#sk-container-id-4 div.sk-estimator input.sk-toggleable__control:checked~label.sk-toggleable__label {background-color: #d4ebff;}#sk-container-id-4 div.sk-label input.sk-toggleable__control:checked~label.sk-toggleable__label {background-color: #d4ebff;}#sk-container-id-4 input.sk-hidden--visually {border: 0;clip: rect(1px 1px 1px 1px);clip: rect(1px, 1px, 1px, 1px);height: 1px;margin: -1px;overflow: hidden;padding: 0;position: absolute;width: 1px;}#sk-container-id-4 div.sk-estimator {font-family: monospace;background-color: #f0f8ff;border: 1px dotted black;border-radius: 0.25em;box-sizing: border-box;margin-bottom: 0.5em;}#sk-container-id-4 div.sk-estimator:hover {background-color: #d4ebff;}#sk-container-id-4 div.sk-parallel-item::after {content: \"\";width: 100%;border-bottom: 1px solid gray;flex-grow: 1;}#sk-container-id-4 div.sk-label:hover label.sk-toggleable__label {background-color: #d4ebff;}#sk-container-id-4 div.sk-serial::before {content: \"\";position: absolute;border-left: 1px solid gray;box-sizing: border-box;top: 0;bottom: 0;left: 50%;z-index: 0;}#sk-container-id-4 div.sk-serial {display: flex;flex-direction: column;align-items: center;background-color: white;padding-right: 0.2em;padding-left: 0.2em;position: relative;}#sk-container-id-4 div.sk-item {position: relative;z-index: 1;}#sk-container-id-4 div.sk-parallel {display: flex;align-items: stretch;justify-content: center;background-color: white;position: relative;}#sk-container-id-4 div.sk-item::before, #sk-container-id-4 div.sk-parallel-item::before {content: \"\";position: absolute;border-left: 1px solid gray;box-sizing: border-box;top: 0;bottom: 0;left: 50%;z-index: -1;}#sk-container-id-4 div.sk-parallel-item {display: flex;flex-direction: column;z-index: 1;position: relative;background-color: white;}#sk-container-id-4 div.sk-parallel-item:first-child::after {align-self: flex-end;width: 50%;}#sk-container-id-4 div.sk-parallel-item:last-child::after {align-self: flex-start;width: 50%;}#sk-container-id-4 div.sk-parallel-item:only-child::after {width: 0;}#sk-container-id-4 div.sk-dashed-wrapped {border: 1px dashed gray;margin: 0 0.4em 0.5em 0.4em;box-sizing: border-box;padding-bottom: 0.4em;background-color: white;}#sk-container-id-4 div.sk-label label {font-family: monospace;font-weight: bold;display: inline-block;line-height: 1.2em;}#sk-container-id-4 div.sk-label-container {text-align: center;}#sk-container-id-4 div.sk-container {/* jupyter's `normalize.less` sets `[hidden] { display: none; }` but bootstrap.min.css set `[hidden] { display: none !important; }` so we also need the `!important` here to be able to override the default hidden behavior on the sphinx rendered scikit-learn.org. See: https://github.com/scikit-learn/scikit-learn/issues/21755 */display: inline-block !important;position: relative;}#sk-container-id-4 div.sk-text-repr-fallback {display: none;}</style><div id=\"sk-container-id-4\" class=\"sk-top-container\"><div class=\"sk-text-repr-fallback\"><pre>SVC()</pre><b>In a Jupyter environment, please rerun this cell to show the HTML representation or trust the notebook. <br />On GitHub, the HTML representation is unable to render, please try loading this page with nbviewer.org.</b></div><div class=\"sk-container\" hidden><div class=\"sk-item\"><div class=\"sk-estimator sk-toggleable\"><input class=\"sk-toggleable__control sk-hidden--visually\" id=\"sk-estimator-id-4\" type=\"checkbox\" checked><label for=\"sk-estimator-id-4\" class=\"sk-toggleable__label sk-toggleable__label-arrow\">SVC</label><div class=\"sk-toggleable__content\"><pre>SVC()</pre></div></div></div></div></div>"
            ]
          },
          "metadata": {},
          "execution_count": 48
        }
      ]
    },
    {
      "cell_type": "code",
      "source": [
        "y_pred = svm_model.predict(X_test)\n",
        "accuracy = accuracy_score(y_test, y_pred)\n",
        "print(\"Accuracy:\", (accuracy*100)//1,'%')"
      ],
      "metadata": {
        "colab": {
          "base_uri": "https://localhost:8080/"
        },
        "id": "vp-t87KQeXGz",
        "outputId": "08d6830c-659e-4252-b8ba-3f07b064a960"
      },
      "execution_count": null,
      "outputs": [
        {
          "output_type": "stream",
          "name": "stdout",
          "text": [
            "Accuracy: 96.0 %\n"
          ]
        }
      ]
    },
    {
      "cell_type": "code",
      "source": [],
      "metadata": {
        "id": "gR5HlCObgYkv"
      },
      "execution_count": null,
      "outputs": []
    }
  ]
}